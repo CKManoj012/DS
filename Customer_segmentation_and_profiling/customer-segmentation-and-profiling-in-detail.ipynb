{
 "cells": [
  {
   "cell_type": "markdown",
   "id": "3be4ca26",
   "metadata": {
    "execution": {
     "iopub.execute_input": "2024-10-16T11:11:34.896486Z",
     "iopub.status.busy": "2024-10-16T11:11:34.895965Z",
     "iopub.status.idle": "2024-10-16T11:11:34.908982Z",
     "shell.execute_reply": "2024-10-16T11:11:34.907205Z",
     "shell.execute_reply.started": "2024-10-16T11:11:34.896439Z"
    },
    "papermill": {
     "duration": 0.019079,
     "end_time": "2024-10-16T14:11:04.316837",
     "exception": false,
     "start_time": "2024-10-16T14:11:04.297758",
     "status": "completed"
    },
    "tags": []
   },
   "source": [
    "# Introduction to Customer Segmentation for a Bank Dataset using RFM Analysis\n",
    "\n",
    "Customer segmentation is a vital process for banks to understand the different behaviors and value propositions of their customers. By effectively segmenting customers, banks can deliver more targeted services, improve customer satisfaction, and enhance profitability. One widely-used method for segmentation is **RFM analysis**, which evaluates customers based on three key dimensions: Recency, Frequency, and Monetary value.\n",
    "\n",
    "In this project, we perform an in-depth **Exploratory Data Analysis (EDA)** to uncover trends and patterns in the bank's customer base. Following the EDA, we will apply **RFM analysis** to score customers based on:\n",
    "\n",
    "- **Recency (R):** How recently a customer has transacted.\n",
    "- **Frequency (F):** How often they have transacted within a certain period.\n",
    "- **Monetary (M):** The total amount spent by the customer.\n",
    "\n",
    "By computing these RFM scores, we can assign customers into different segments. This segmentation will help the bank in tailoring its marketing strategies and customer relationship management, ensuring targeted actions that align with the specific needs of each customer group.\n"
   ]
  },
  {
   "cell_type": "markdown",
   "id": "2b13ac00",
   "metadata": {
    "papermill": {
     "duration": 0.017488,
     "end_time": "2024-10-16T14:11:04.353471",
     "exception": false,
     "start_time": "2024-10-16T14:11:04.335983",
     "status": "completed"
    },
    "tags": []
   },
   "source": [
    "## Data import and configurations"
   ]
  },
  {
   "cell_type": "code",
   "execution_count": 1,
   "id": "13d4f02b",
   "metadata": {
    "execution": {
     "iopub.execute_input": "2024-10-16T14:11:04.391683Z",
     "iopub.status.busy": "2024-10-16T14:11:04.390480Z",
     "iopub.status.idle": "2024-10-16T14:11:07.056224Z",
     "shell.execute_reply": "2024-10-16T14:11:07.055114Z"
    },
    "papermill": {
     "duration": 2.687744,
     "end_time": "2024-10-16T14:11:07.058984",
     "exception": false,
     "start_time": "2024-10-16T14:11:04.371240",
     "status": "completed"
    },
    "tags": []
   },
   "outputs": [],
   "source": [
    "import pandas as pd\n",
    "import numpy as np\n",
    "import matplotlib.pyplot as plt\n",
    "import re\n",
    "import seaborn as sns\n",
    "from datetime import datetime\n",
    "\n",
    "pd.set_option('display.float_format', '{:.2f}'.format)\n",
    "\n",
    "import warnings\n",
    "warnings.simplefilter(action='ignore', category=FutureWarning)\n",
    "warnings.simplefilter(action='ignore', category=DeprecationWarning)\n",
    "warnings.simplefilter(action='ignore', category=RuntimeWarning)\n"
   ]
  },
  {
   "cell_type": "code",
   "execution_count": 2,
   "id": "0afa40d1",
   "metadata": {
    "execution": {
     "iopub.execute_input": "2024-10-16T14:11:07.098492Z",
     "iopub.status.busy": "2024-10-16T14:11:07.097483Z",
     "iopub.status.idle": "2024-10-16T14:11:10.654662Z",
     "shell.execute_reply": "2024-10-16T14:11:10.653169Z"
    },
    "papermill": {
     "duration": 3.580364,
     "end_time": "2024-10-16T14:11:10.657576",
     "exception": false,
     "start_time": "2024-10-16T14:11:07.077212",
     "status": "completed"
    },
    "tags": []
   },
   "outputs": [],
   "source": [
    "data = pd.read_csv(\"/kaggle/input/bank-customer-segmentation/bank_transactions.csv\")"
   ]
  },
  {
   "cell_type": "code",
   "execution_count": 3,
   "id": "fbda3d11",
   "metadata": {
    "execution": {
     "iopub.execute_input": "2024-10-16T14:11:10.696467Z",
     "iopub.status.busy": "2024-10-16T14:11:10.696037Z",
     "iopub.status.idle": "2024-10-16T14:11:10.721150Z",
     "shell.execute_reply": "2024-10-16T14:11:10.720080Z"
    },
    "papermill": {
     "duration": 0.04754,
     "end_time": "2024-10-16T14:11:10.724013",
     "exception": false,
     "start_time": "2024-10-16T14:11:10.676473",
     "status": "completed"
    },
    "tags": []
   },
   "outputs": [
    {
     "data": {
      "text/html": [
       "<div>\n",
       "<style scoped>\n",
       "    .dataframe tbody tr th:only-of-type {\n",
       "        vertical-align: middle;\n",
       "    }\n",
       "\n",
       "    .dataframe tbody tr th {\n",
       "        vertical-align: top;\n",
       "    }\n",
       "\n",
       "    .dataframe thead th {\n",
       "        text-align: right;\n",
       "    }\n",
       "</style>\n",
       "<table border=\"1\" class=\"dataframe\">\n",
       "  <thead>\n",
       "    <tr style=\"text-align: right;\">\n",
       "      <th></th>\n",
       "      <th>TransactionID</th>\n",
       "      <th>CustomerID</th>\n",
       "      <th>CustomerDOB</th>\n",
       "      <th>CustGender</th>\n",
       "      <th>CustLocation</th>\n",
       "      <th>CustAccountBalance</th>\n",
       "      <th>TransactionDate</th>\n",
       "      <th>TransactionTime</th>\n",
       "      <th>TransactionAmount (INR)</th>\n",
       "    </tr>\n",
       "  </thead>\n",
       "  <tbody>\n",
       "    <tr>\n",
       "      <th>0</th>\n",
       "      <td>T1</td>\n",
       "      <td>C5841053</td>\n",
       "      <td>10/1/94</td>\n",
       "      <td>F</td>\n",
       "      <td>JAMSHEDPUR</td>\n",
       "      <td>17819.05</td>\n",
       "      <td>2/8/16</td>\n",
       "      <td>143207</td>\n",
       "      <td>25.00</td>\n",
       "    </tr>\n",
       "    <tr>\n",
       "      <th>1</th>\n",
       "      <td>T2</td>\n",
       "      <td>C2142763</td>\n",
       "      <td>4/4/57</td>\n",
       "      <td>M</td>\n",
       "      <td>JHAJJAR</td>\n",
       "      <td>2270.69</td>\n",
       "      <td>2/8/16</td>\n",
       "      <td>141858</td>\n",
       "      <td>27999.00</td>\n",
       "    </tr>\n",
       "    <tr>\n",
       "      <th>2</th>\n",
       "      <td>T3</td>\n",
       "      <td>C4417068</td>\n",
       "      <td>26/11/96</td>\n",
       "      <td>F</td>\n",
       "      <td>MUMBAI</td>\n",
       "      <td>17874.44</td>\n",
       "      <td>2/8/16</td>\n",
       "      <td>142712</td>\n",
       "      <td>459.00</td>\n",
       "    </tr>\n",
       "    <tr>\n",
       "      <th>3</th>\n",
       "      <td>T4</td>\n",
       "      <td>C5342380</td>\n",
       "      <td>14/9/73</td>\n",
       "      <td>F</td>\n",
       "      <td>MUMBAI</td>\n",
       "      <td>866503.21</td>\n",
       "      <td>2/8/16</td>\n",
       "      <td>142714</td>\n",
       "      <td>2060.00</td>\n",
       "    </tr>\n",
       "    <tr>\n",
       "      <th>4</th>\n",
       "      <td>T5</td>\n",
       "      <td>C9031234</td>\n",
       "      <td>24/3/88</td>\n",
       "      <td>F</td>\n",
       "      <td>NAVI MUMBAI</td>\n",
       "      <td>6714.43</td>\n",
       "      <td>2/8/16</td>\n",
       "      <td>181156</td>\n",
       "      <td>1762.50</td>\n",
       "    </tr>\n",
       "  </tbody>\n",
       "</table>\n",
       "</div>"
      ],
      "text/plain": [
       "  TransactionID CustomerID CustomerDOB CustGender CustLocation  \\\n",
       "0            T1   C5841053     10/1/94          F   JAMSHEDPUR   \n",
       "1            T2   C2142763      4/4/57          M      JHAJJAR   \n",
       "2            T3   C4417068    26/11/96          F       MUMBAI   \n",
       "3            T4   C5342380     14/9/73          F       MUMBAI   \n",
       "4            T5   C9031234     24/3/88          F  NAVI MUMBAI   \n",
       "\n",
       "   CustAccountBalance TransactionDate  TransactionTime  \\\n",
       "0            17819.05          2/8/16           143207   \n",
       "1             2270.69          2/8/16           141858   \n",
       "2            17874.44          2/8/16           142712   \n",
       "3           866503.21          2/8/16           142714   \n",
       "4             6714.43          2/8/16           181156   \n",
       "\n",
       "   TransactionAmount (INR)  \n",
       "0                    25.00  \n",
       "1                 27999.00  \n",
       "2                   459.00  \n",
       "3                  2060.00  \n",
       "4                  1762.50  "
      ]
     },
     "execution_count": 3,
     "metadata": {},
     "output_type": "execute_result"
    }
   ],
   "source": [
    "data.head()"
   ]
  },
  {
   "cell_type": "code",
   "execution_count": 4,
   "id": "da940f5f",
   "metadata": {
    "execution": {
     "iopub.execute_input": "2024-10-16T14:11:10.766383Z",
     "iopub.status.busy": "2024-10-16T14:11:10.765400Z",
     "iopub.status.idle": "2024-10-16T14:11:10.774125Z",
     "shell.execute_reply": "2024-10-16T14:11:10.772866Z"
    },
    "papermill": {
     "duration": 0.030993,
     "end_time": "2024-10-16T14:11:10.776507",
     "exception": false,
     "start_time": "2024-10-16T14:11:10.745514",
     "status": "completed"
    },
    "tags": []
   },
   "outputs": [
    {
     "data": {
      "text/plain": [
       "Index(['TransactionID', 'CustomerID', 'CustomerDOB', 'CustGender',\n",
       "       'CustLocation', 'CustAccountBalance', 'TransactionDate',\n",
       "       'TransactionTime', 'TransactionAmount (INR)'],\n",
       "      dtype='object')"
      ]
     },
     "execution_count": 4,
     "metadata": {},
     "output_type": "execute_result"
    }
   ],
   "source": [
    "data.columns"
   ]
  },
  {
   "cell_type": "markdown",
   "id": "21cfc3a5",
   "metadata": {
    "papermill": {
     "duration": 0.018059,
     "end_time": "2024-10-16T14:11:10.813150",
     "exception": false,
     "start_time": "2024-10-16T14:11:10.795091",
     "status": "completed"
    },
    "tags": []
   },
   "source": [
    "## EDA and Feature extraction\n",
    "\n",
    "We will create some insightfull features while also doing the exploratory Data analysis on the same features."
   ]
  },
  {
   "cell_type": "markdown",
   "id": "0caf52eb",
   "metadata": {
    "papermill": {
     "duration": 0.018004,
     "end_time": "2024-10-16T14:11:10.849439",
     "exception": false,
     "start_time": "2024-10-16T14:11:10.831435",
     "status": "completed"
    },
    "tags": []
   },
   "source": [
    "### a) Time-based Features"
   ]
  },
  {
   "cell_type": "markdown",
   "id": "b39c3ed3",
   "metadata": {
    "papermill": {
     "duration": 0.019853,
     "end_time": "2024-10-16T14:11:10.887558",
     "exception": false,
     "start_time": "2024-10-16T14:11:10.867705",
     "status": "completed"
    },
    "tags": []
   },
   "source": [
    "#### Customer Age\n",
    "\n",
    "From CustomerDOB, we can calculate the customer’s age by subtracting it from the current date/year or the transaction date. This gives you an idea of the customer demographic."
   ]
  },
  {
   "cell_type": "markdown",
   "id": "419dee91",
   "metadata": {
    "papermill": {
     "duration": 0.018258,
     "end_time": "2024-10-16T14:11:10.924068",
     "exception": false,
     "start_time": "2024-10-16T14:11:10.905810",
     "status": "completed"
    },
    "tags": []
   },
   "source": [
    "Before that lets extract the year of birth and have a look if averything looks fine or not."
   ]
  },
  {
   "cell_type": "code",
   "execution_count": 5,
   "id": "a395349d",
   "metadata": {
    "execution": {
     "iopub.execute_input": "2024-10-16T14:11:10.963149Z",
     "iopub.status.busy": "2024-10-16T14:11:10.962152Z",
     "iopub.status.idle": "2024-10-16T14:11:11.786487Z",
     "shell.execute_reply": "2024-10-16T14:11:11.785293Z"
    },
    "papermill": {
     "duration": 0.846803,
     "end_time": "2024-10-16T14:11:11.789078",
     "exception": false,
     "start_time": "2024-10-16T14:11:10.942275",
     "status": "completed"
    },
    "tags": []
   },
   "outputs": [
    {
     "data": {
      "text/plain": [
       "count   1045170.00\n",
       "mean        178.96\n",
       "std         390.65\n",
       "min           0.00\n",
       "25%          82.00\n",
       "50%          88.00\n",
       "75%          91.00\n",
       "max        1800.00\n",
       "Name: BirthYear, dtype: float64"
      ]
     },
     "execution_count": 5,
     "metadata": {},
     "output_type": "execute_result"
    }
   ],
   "source": [
    "data['BirthYear'] = data['CustomerDOB'].astype(str).apply(lambda x : x.split(\"/\")[-1])\n",
    "data['BirthYear'].astype(float).describe()"
   ]
  },
  {
   "cell_type": "markdown",
   "id": "6877fdc4",
   "metadata": {
    "papermill": {
     "duration": 0.018245,
     "end_time": "2024-10-16T14:11:11.825928",
     "exception": false,
     "start_time": "2024-10-16T14:11:11.807683",
     "status": "completed"
    },
    "tags": []
   },
   "source": [
    "There is some inconsistencies in the date format, for most of the dates years are of last 2 digits, but there is certain records with 1800 as Year of birth.   \n",
    "Also, min of 0 in Year of birth does not make any sense. \n",
    "\n"
   ]
  },
  {
   "cell_type": "code",
   "execution_count": 6,
   "id": "bce51d67",
   "metadata": {
    "execution": {
     "iopub.execute_input": "2024-10-16T14:11:11.864967Z",
     "iopub.status.busy": "2024-10-16T14:11:11.864111Z",
     "iopub.status.idle": "2024-10-16T14:11:12.841792Z",
     "shell.execute_reply": "2024-10-16T14:11:12.840699Z"
    },
    "papermill": {
     "duration": 0.999978,
     "end_time": "2024-10-16T14:11:12.844356",
     "exception": false,
     "start_time": "2024-10-16T14:11:11.844378",
     "status": "completed"
    },
    "tags": []
   },
   "outputs": [
    {
     "data": {
      "text/plain": [
       "count   987562.00\n",
       "mean        84.89\n",
       "std          9.00\n",
       "min          1.00\n",
       "25%         82.00\n",
       "50%         87.00\n",
       "75%         91.00\n",
       "max         99.00\n",
       "Name: BirthYear, dtype: float64"
      ]
     },
     "execution_count": 6,
     "metadata": {},
     "output_type": "execute_result"
    }
   ],
   "source": [
    "data['BirthYear'] = data['BirthYear'].astype(float)\n",
    "\n",
    "data.loc[data['BirthYear']==1800,'CustomerDOB'] = np.nan\n",
    "data.loc[data['BirthYear']==0,'CustomerDOB']=np.nan\n",
    "\n",
    "\n",
    "## Computing the BirthYear again for the latest data\n",
    "\n",
    "data['BirthYear'] = data['CustomerDOB'].astype(str).apply(lambda x : x.split(\"/\")[-1])\n",
    "data['BirthYear'] = data['BirthYear'].astype(float)\n",
    "\n",
    "data['BirthYear'].describe()"
   ]
  },
  {
   "cell_type": "code",
   "execution_count": 7,
   "id": "371a9f88",
   "metadata": {
    "execution": {
     "iopub.execute_input": "2024-10-16T14:11:12.883856Z",
     "iopub.status.busy": "2024-10-16T14:11:12.883391Z",
     "iopub.status.idle": "2024-10-16T14:11:13.246451Z",
     "shell.execute_reply": "2024-10-16T14:11:13.245379Z"
    },
    "papermill": {
     "duration": 0.385732,
     "end_time": "2024-10-16T14:11:13.248960",
     "exception": false,
     "start_time": "2024-10-16T14:11:12.863228",
     "status": "completed"
    },
    "tags": []
   },
   "outputs": [
    {
     "data": {
      "text/plain": [
       "<Axes: ylabel='Frequency'>"
      ]
     },
     "execution_count": 7,
     "metadata": {},
     "output_type": "execute_result"
    },
    {
     "data": {
      "image/png": "[encoded data removed]",
      "text/plain": [
       "<Figure size 640x480 with 1 Axes>"
      ]
     },
     "metadata": {},
     "output_type": "display_data"
    }
   ],
   "source": [
    "data['BirthYear'].plot(kind=\"hist\")"
   ]
  },
  {
   "cell_type": "markdown",
   "id": "15bbe83c",
   "metadata": {
    "papermill": {
     "duration": 0.018808,
     "end_time": "2024-10-16T14:11:13.287064",
     "exception": false,
     "start_time": "2024-10-16T14:11:13.268256",
     "status": "completed"
    },
    "tags": []
   },
   "source": [
    "Now the birth year almost looks okay, But one thing to check is year which are less than 15, which either results in customers with age near to 15 if they born in 1915 or earlier or they must be customers who born after 2000 whose age would be around 15 years or less. In either case they can be treated as outliers and removed.\n",
    "\n"
   ]
  },
  {
   "cell_type": "code",
   "execution_count": 8,
   "id": "b0370bac",
   "metadata": {
    "execution": {
     "iopub.execute_input": "2024-10-16T14:11:13.326970Z",
     "iopub.status.busy": "2024-10-16T14:11:13.326506Z",
     "iopub.status.idle": "2024-10-16T14:11:13.792236Z",
     "shell.execute_reply": "2024-10-16T14:11:13.791060Z"
    },
    "papermill": {
     "duration": 0.488723,
     "end_time": "2024-10-16T14:11:13.794873",
     "exception": false,
     "start_time": "2024-10-16T14:11:13.306150",
     "status": "completed"
    },
    "tags": []
   },
   "outputs": [
    {
     "data": {
      "text/plain": [
       "<Axes: ylabel='Frequency'>"
      ]
     },
     "execution_count": 8,
     "metadata": {},
     "output_type": "execute_result"
    },
    {
     "data": {
      "image/png": "[encoded data removed]",
      "text/plain": [
       "<Figure size 640x480 with 1 Axes>"
      ]
     },
     "metadata": {},
     "output_type": "display_data"
    }
   ],
   "source": [
    "data = data[data['BirthYear']>15]\n",
    "data['BirthYear'] = data['BirthYear']+1900\n",
    "data['Age'] = 2024 - data['BirthYear']\n",
    "\n",
    "# Lets plot the age\n",
    "data['Age'].plot(kind=\"hist\")"
   ]
  },
  {
   "cell_type": "markdown",
   "id": "6af422f6",
   "metadata": {
    "papermill": {
     "duration": 0.019132,
     "end_time": "2024-10-16T14:11:13.833606",
     "exception": false,
     "start_time": "2024-10-16T14:11:13.814474",
     "status": "completed"
    },
    "tags": []
   },
   "source": [
    "We can see some customers age greater than 90. Lets remove them as outliers. (In the real data these can be valid accounts but still be outliers. People with that age might have pension transactions in their accounts. "
   ]
  },
  {
   "cell_type": "code",
   "execution_count": 9,
   "id": "b0ff2eb6",
   "metadata": {
    "execution": {
     "iopub.execute_input": "2024-10-16T14:11:13.874300Z",
     "iopub.status.busy": "2024-10-16T14:11:13.873891Z",
     "iopub.status.idle": "2024-10-16T14:11:14.176170Z",
     "shell.execute_reply": "2024-10-16T14:11:14.174513Z"
    },
    "papermill": {
     "duration": 0.325853,
     "end_time": "2024-10-16T14:11:14.178941",
     "exception": false,
     "start_time": "2024-10-16T14:11:13.853088",
     "status": "completed"
    },
    "tags": []
   },
   "outputs": [],
   "source": [
    "data = data[data['Age']<90]\n",
    "data.drop(columns=['CustomerDOB','TransactionTime','BirthYear'],inplace=True)"
   ]
  },
  {
   "cell_type": "markdown",
   "id": "b6c91c49",
   "metadata": {
    "papermill": {
     "duration": 0.019358,
     "end_time": "2024-10-16T14:11:14.217959",
     "exception": false,
     "start_time": "2024-10-16T14:11:14.198601",
     "status": "completed"
    },
    "tags": []
   },
   "source": [
    "#### **Transaction Frequency**\n",
    "This gives is the idea on how frequent the customers are using the services of the bank.  \n",
    "We can group the dataset by CustomerID and calculate the frequency of transactions over different time periods (for time period of an year)"
   ]
  },
  {
   "cell_type": "code",
   "execution_count": 10,
   "id": "fed532fd",
   "metadata": {
    "execution": {
     "iopub.execute_input": "2024-10-16T14:11:14.258792Z",
     "iopub.status.busy": "2024-10-16T14:11:14.258350Z",
     "iopub.status.idle": "2024-10-16T14:11:16.613065Z",
     "shell.execute_reply": "2024-10-16T14:11:16.611989Z"
    },
    "papermill": {
     "duration": 2.378442,
     "end_time": "2024-10-16T14:11:16.615991",
     "exception": false,
     "start_time": "2024-10-16T14:11:14.237549",
     "status": "completed"
    },
    "tags": []
   },
   "outputs": [
    {
     "name": "stderr",
     "output_type": "stream",
     "text": [
      "/tmp/ipykernel_17/215932022.py:1: UserWarning: Could not infer format, so each element will be parsed individually, falling back to `dateutil`. To ensure parsing is consistent and as-expected, please specify a format.\n",
      "  data['TransactionDate'] = pd.to_datetime(data['TransactionDate'])\n"
     ]
    },
    {
     "name": "stdout",
     "output_type": "stream",
     "text": [
      "TransactionID\n",
      "1    710735\n",
      "2    113286\n",
      "3     14347\n",
      "4      1353\n",
      "5       108\n",
      "6         6\n",
      "Name: count, dtype: int64\n"
     ]
    }
   ],
   "source": [
    "data['TransactionDate'] = pd.to_datetime(data['TransactionDate'])\n",
    "transactions = data.groupby('CustomerID')['TransactionID'].nunique().reset_index()\n",
    "\n",
    "trans_counts = transactions['TransactionID'].value_counts()\n",
    "category_percentages = transactions['TransactionID'].value_counts(normalize=True) * 100\n",
    "\n",
    "print(trans_counts)"
   ]
  },
  {
   "cell_type": "code",
   "execution_count": 11,
   "id": "26771f84",
   "metadata": {
    "execution": {
     "iopub.execute_input": "2024-10-16T14:11:16.658017Z",
     "iopub.status.busy": "2024-10-16T14:11:16.657187Z",
     "iopub.status.idle": "2024-10-16T14:11:16.904675Z",
     "shell.execute_reply": "2024-10-16T14:11:16.903576Z"
    },
    "papermill": {
     "duration": 0.271214,
     "end_time": "2024-10-16T14:11:16.907189",
     "exception": false,
     "start_time": "2024-10-16T14:11:16.635975",
     "status": "completed"
    },
    "tags": []
   },
   "outputs": [
    {
     "data": {
      "image/png": "[encoded data removed]",
      "text/plain": [
       "<Figure size 640x480 with 1 Axes>"
      ]
     },
     "metadata": {},
     "output_type": "display_data"
    }
   ],
   "source": [
    "# Plotting a barplot using Seaborn\n",
    "\n",
    "sns.barplot(x=trans_counts.index, y=trans_counts.values, palette='viridis')\n",
    "\n",
    "plt.xlabel('# Transactions', fontsize=12)\n",
    "plt.ylabel('Number of Customers', fontsize=12)\n",
    "plt.title('Number of Transactions', fontsize=16)\n",
    "plt.show()"
   ]
  },
  {
   "cell_type": "markdown",
   "id": "9ed8acbc",
   "metadata": {
    "papermill": {
     "duration": 0.020154,
     "end_time": "2024-10-16T14:11:16.948740",
     "exception": false,
     "start_time": "2024-10-16T14:11:16.928586",
     "status": "completed"
    },
    "tags": []
   },
   "source": [
    "Most of the customers have only 1 transactions made. Which covers 85% of the all customers.\n",
    "\n",
    "And 1467 customers out of 839835 (0.17%) made more than 4 transactions. "
   ]
  },
  {
   "cell_type": "markdown",
   "id": "3ef81326",
   "metadata": {
    "papermill": {
     "duration": 0.020078,
     "end_time": "2024-10-16T14:11:16.989203",
     "exception": false,
     "start_time": "2024-10-16T14:11:16.969125",
     "status": "completed"
    },
    "tags": []
   },
   "source": [
    "#### **Recency of Last Transaction:**\n",
    "\n",
    "Measure how recent the last transaction was compared to the current date, giving insight into how active the customer is"
   ]
  },
  {
   "cell_type": "markdown",
   "id": "8ac4a5f4",
   "metadata": {
    "papermill": {
     "duration": 0.020013,
     "end_time": "2024-10-16T14:11:17.029461",
     "exception": false,
     "start_time": "2024-10-16T14:11:17.009448",
     "status": "completed"
    },
    "tags": []
   },
   "source": [
    "Recency = CurrentDate - LastTransactionDate"
   ]
  },
  {
   "cell_type": "code",
   "execution_count": 12,
   "id": "48e6f83c",
   "metadata": {
    "execution": {
     "iopub.execute_input": "2024-10-16T14:11:17.072912Z",
     "iopub.status.busy": "2024-10-16T14:11:17.072449Z",
     "iopub.status.idle": "2024-10-16T14:11:17.083007Z",
     "shell.execute_reply": "2024-10-16T14:11:17.081855Z"
    },
    "papermill": {
     "duration": 0.035314,
     "end_time": "2024-10-16T14:11:17.085458",
     "exception": false,
     "start_time": "2024-10-16T14:11:17.050144",
     "status": "completed"
    },
    "tags": []
   },
   "outputs": [
    {
     "data": {
      "text/plain": [
       "Timestamp('2016-01-08 00:00:00')"
      ]
     },
     "execution_count": 12,
     "metadata": {},
     "output_type": "execute_result"
    }
   ],
   "source": [
    "data['TransactionDate'].min()"
   ]
  },
  {
   "cell_type": "code",
   "execution_count": 13,
   "id": "d123259b",
   "metadata": {
    "execution": {
     "iopub.execute_input": "2024-10-16T14:11:17.128977Z",
     "iopub.status.busy": "2024-10-16T14:11:17.128519Z",
     "iopub.status.idle": "2024-10-16T14:11:17.139983Z",
     "shell.execute_reply": "2024-10-16T14:11:17.138791Z"
    },
    "papermill": {
     "duration": 0.036223,
     "end_time": "2024-10-16T14:11:17.142491",
     "exception": false,
     "start_time": "2024-10-16T14:11:17.106268",
     "status": "completed"
    },
    "tags": []
   },
   "outputs": [
    {
     "data": {
      "text/plain": [
       "Timestamp('2016-12-09 00:00:00')"
      ]
     },
     "execution_count": 13,
     "metadata": {},
     "output_type": "execute_result"
    }
   ],
   "source": [
    "data['TransactionDate'].max()"
   ]
  },
  {
   "cell_type": "code",
   "execution_count": 14,
   "id": "2654571c",
   "metadata": {
    "execution": {
     "iopub.execute_input": "2024-10-16T14:11:17.186747Z",
     "iopub.status.busy": "2024-10-16T14:11:17.185423Z",
     "iopub.status.idle": "2024-10-16T14:11:19.168611Z",
     "shell.execute_reply": "2024-10-16T14:11:19.167135Z"
    },
    "papermill": {
     "duration": 2.008122,
     "end_time": "2024-10-16T14:11:19.171495",
     "exception": false,
     "start_time": "2024-10-16T14:11:17.163373",
     "status": "completed"
    },
    "tags": []
   },
   "outputs": [],
   "source": [
    "## Lets create a recency to 2017 Jan 1st. Which will say how recent were the customer to the date Jan 1st of 2017\n",
    "\n",
    "today_date = datetime(2017, 1, 1)\n",
    "\n",
    "data['Recency'] = (today_date - data['TransactionDate']).dt.days\n",
    "customer_recency = data.groupby('CustomerID')['Recency'].max().reset_index()\n"
   ]
  },
  {
   "cell_type": "code",
   "execution_count": 15,
   "id": "220710c2",
   "metadata": {
    "execution": {
     "iopub.execute_input": "2024-10-16T14:11:19.216199Z",
     "iopub.status.busy": "2024-10-16T14:11:19.215766Z",
     "iopub.status.idle": "2024-10-16T14:11:19.484071Z",
     "shell.execute_reply": "2024-10-16T14:11:19.483000Z"
    },
    "papermill": {
     "duration": 0.293696,
     "end_time": "2024-10-16T14:11:19.486606",
     "exception": false,
     "start_time": "2024-10-16T14:11:19.192910",
     "status": "completed"
    },
    "tags": []
   },
   "outputs": [
    {
     "data": {
      "image/png": "[encoded data removed]",
      "text/plain": [
       "<Figure size 800x400 with 1 Axes>"
      ]
     },
     "metadata": {},
     "output_type": "display_data"
    }
   ],
   "source": [
    "# Plotting the histogram using Matplotlib\n",
    "plt.figure(figsize=(8, 4))  # Set the figure size\n",
    "plt.hist(customer_recency['Recency'], bins=10, color='blue', edgecolor='black')  # Histogram with 10 bins\n",
    "plt.xlabel('Recency (Days)', fontsize=12)  # X-axis label\n",
    "plt.ylabel('Frequency', fontsize=12)        # Y-axis label\n",
    "plt.title('Histogram of Recency', fontsize=16)  # Title of the plot\n",
    "plt.grid(axis='y', alpha=0.75)  # Optional: Add gridlines for better readability\n",
    "plt.show()  # Display the plot"
   ]
  },
  {
   "cell_type": "markdown",
   "id": "11b9fb97",
   "metadata": {
    "papermill": {
     "duration": 0.020687,
     "end_time": "2024-10-16T14:11:19.528592",
     "exception": false,
     "start_time": "2024-10-16T14:11:19.507905",
     "status": "completed"
    },
    "tags": []
   },
   "source": [
    "So, there are customers who were active recently, but a significant number of customers have not been active for a long period.\n",
    "\n",
    "Customers who were active for more than 200-360 days (more than 6 months) can be categorized as inactive (let's say) or churned customers.  \n",
    "The customers who were active for 120 - 200 days are at high risk of churning but may not yet become inactive. So these are high-priority buckets for the banks to offer some benefits to avoid the further loss of customers.\n",
    "\n",
    "Let's see and visualize these buckets as well.\n"
   ]
  },
  {
   "cell_type": "code",
   "execution_count": 16,
   "id": "8a3c06ea",
   "metadata": {
    "execution": {
     "iopub.execute_input": "2024-10-16T14:11:19.572467Z",
     "iopub.status.busy": "2024-10-16T14:11:19.572041Z",
     "iopub.status.idle": "2024-10-16T14:11:19.825965Z",
     "shell.execute_reply": "2024-10-16T14:11:19.824895Z"
    },
    "papermill": {
     "duration": 0.278709,
     "end_time": "2024-10-16T14:11:19.828297",
     "exception": false,
     "start_time": "2024-10-16T14:11:19.549588",
     "status": "completed"
    },
    "tags": []
   },
   "outputs": [
    {
     "data": {
      "image/png": "[encoded data removed]",
      "text/plain": [
       "<Figure size 600x400 with 1 Axes>"
      ]
     },
     "metadata": {},
     "output_type": "display_data"
    }
   ],
   "source": [
    "bins = [0, 120, 200, float('inf')]  # Define the bin edges\n",
    "labels = ['0-120 days', '120-200 days', '>200 days']  # Define the labels for the bins\n",
    "\n",
    "# Create a new column 'Recency_Bucket' based on the defined bins\n",
    "customer_recency['Recency_Bucket'] = pd.cut(customer_recency['Recency'], bins=bins, labels=labels, right=False)\n",
    "\n",
    "bucket_counts = customer_recency['Recency_Bucket'].value_counts()\n",
    "colors = ['blue', 'red', 'grey']\n",
    "\n",
    "\n",
    "plt.figure(figsize=(6, 4))  # Set the figure size\n",
    "sns.barplot(x=bucket_counts.index, y=bucket_counts.values, palette=colors)\n",
    "# Add labels and title\n",
    "plt.xlabel('Recency Buckets', fontsize=12)\n",
    "plt.ylabel('Count of Customers', fontsize=12)\n",
    "plt.title('Count of Customers by Recency Buckets', fontsize=13)\n",
    "plt.xticks(rotation=45)  # Rotate x-axis labels if needed\n",
    "plt.show()  # Display the plot"
   ]
  },
  {
   "cell_type": "markdown",
   "id": "29e3a647",
   "metadata": {
    "papermill": {
     "duration": 0.021704,
     "end_time": "2024-10-16T14:11:19.872027",
     "exception": false,
     "start_time": "2024-10-16T14:11:19.850323",
     "status": "completed"
    },
    "tags": []
   },
   "source": [
    "As we can see there are many customers at high risk of churning"
   ]
  },
  {
   "cell_type": "markdown",
   "id": "d7c703f5",
   "metadata": {
    "papermill": {
     "duration": 0.021452,
     "end_time": "2024-10-16T14:11:19.915443",
     "exception": false,
     "start_time": "2024-10-16T14:11:19.893991",
     "status": "completed"
    },
    "tags": []
   },
   "source": [
    "#### **Average Transaction Amount**"
   ]
  },
  {
   "cell_type": "code",
   "execution_count": 17,
   "id": "533cb285",
   "metadata": {
    "execution": {
     "iopub.execute_input": "2024-10-16T14:11:19.961276Z",
     "iopub.status.busy": "2024-10-16T14:11:19.960842Z",
     "iopub.status.idle": "2024-10-16T14:11:24.657841Z",
     "shell.execute_reply": "2024-10-16T14:11:24.656676Z"
    },
    "papermill": {
     "duration": 4.722683,
     "end_time": "2024-10-16T14:11:24.660390",
     "exception": false,
     "start_time": "2024-10-16T14:11:19.937707",
     "status": "completed"
    },
    "tags": []
   },
   "outputs": [
    {
     "data": {
      "text/plain": [
       "count    839835.00\n",
       "mean       1452.77\n",
       "std        6041.69\n",
       "min           0.00\n",
       "25%         180.00\n",
       "50%         474.50\n",
       "75%        1175.00\n",
       "max     1560034.99\n",
       "Name: Avg Transaction amnt, dtype: float64"
      ]
     },
     "execution_count": 17,
     "metadata": {},
     "output_type": "execute_result"
    }
   ],
   "source": [
    "data['Avg Transaction amnt'] = data.groupby('CustomerID')['TransactionAmount (INR)'].transform('sum')/data.groupby('CustomerID')['TransactionID'].transform('nunique')\n",
    "avg_trans = data[['CustomerID','Avg Transaction amnt']].drop_duplicates()\n",
    "\n",
    "avg_trans['Avg Transaction amnt'].describe()"
   ]
  },
  {
   "cell_type": "code",
   "execution_count": 18,
   "id": "44a28bab",
   "metadata": {
    "execution": {
     "iopub.execute_input": "2024-10-16T14:11:24.706643Z",
     "iopub.status.busy": "2024-10-16T14:11:24.705609Z",
     "iopub.status.idle": "2024-10-16T14:11:25.193322Z",
     "shell.execute_reply": "2024-10-16T14:11:25.192228Z"
    },
    "papermill": {
     "duration": 0.513364,
     "end_time": "2024-10-16T14:11:25.195856",
     "exception": false,
     "start_time": "2024-10-16T14:11:24.682492",
     "status": "completed"
    },
    "tags": []
   },
   "outputs": [
    {
     "data": {
      "text/plain": [
       "<Axes: >"
      ]
     },
     "execution_count": 18,
     "metadata": {},
     "output_type": "execute_result"
    },
    {
     "data": {
      "image/png": "[encoded data removed]",
      "text/plain": [
       "<Figure size 640x480 with 1 Axes>"
      ]
     },
     "metadata": {},
     "output_type": "display_data"
    }
   ],
   "source": [
    "avg_trans['Avg Transaction amnt'].plot(kind='box')"
   ]
  },
  {
   "cell_type": "markdown",
   "id": "05654f2f",
   "metadata": {
    "papermill": {
     "duration": 0.023392,
     "end_time": "2024-10-16T14:11:25.241830",
     "exception": false,
     "start_time": "2024-10-16T14:11:25.218438",
     "status": "completed"
    },
    "tags": []
   },
   "source": [
    "As we can see,  the average transaction has a very long tail with some high extremes. These are not outliers but are some high transactions.\n",
    "\n",
    "To have a better look at their distribution let's transform them and have a look at them."
   ]
  },
  {
   "cell_type": "code",
   "execution_count": 19,
   "id": "a7cfb02b",
   "metadata": {
    "execution": {
     "iopub.execute_input": "2024-10-16T14:11:25.289302Z",
     "iopub.status.busy": "2024-10-16T14:11:25.288869Z",
     "iopub.status.idle": "2024-10-16T14:11:25.678821Z",
     "shell.execute_reply": "2024-10-16T14:11:25.677662Z"
    },
    "papermill": {
     "duration": 0.41681,
     "end_time": "2024-10-16T14:11:25.681338",
     "exception": false,
     "start_time": "2024-10-16T14:11:25.264528",
     "status": "completed"
    },
    "tags": []
   },
   "outputs": [
    {
     "data": {
      "text/plain": [
       "<Axes: >"
      ]
     },
     "execution_count": 19,
     "metadata": {},
     "output_type": "execute_result"
    },
    {
     "data": {
      "image/png": "[encoded data removed]",
      "text/plain": [
       "<Figure size 640x480 with 1 Axes>"
      ]
     },
     "metadata": {},
     "output_type": "display_data"
    }
   ],
   "source": [
    "avg_trans['Sqrt_Transaction'] =  np.sqrt(avg_trans['Avg Transaction amnt'])\n",
    "avg_trans['Sqrt_Transaction'].plot(kind='box')"
   ]
  },
  {
   "cell_type": "code",
   "execution_count": 20,
   "id": "94033afb",
   "metadata": {
    "execution": {
     "iopub.execute_input": "2024-10-16T14:11:25.729562Z",
     "iopub.status.busy": "2024-10-16T14:11:25.728812Z",
     "iopub.status.idle": "2024-10-16T14:11:26.769123Z",
     "shell.execute_reply": "2024-10-16T14:11:26.768006Z"
    },
    "papermill": {
     "duration": 1.066984,
     "end_time": "2024-10-16T14:11:26.771456",
     "exception": false,
     "start_time": "2024-10-16T14:11:25.704472",
     "status": "completed"
    },
    "tags": []
   },
   "outputs": [
    {
     "data": {
      "image/png": "[encoded data removed]",
      "text/plain": [
       "<Figure size 600x400 with 1 Axes>"
      ]
     },
     "metadata": {},
     "output_type": "display_data"
    }
   ],
   "source": [
    "plt.figure(figsize=(6, 4))\n",
    "sns.histplot(avg_trans['Sqrt_Transaction'], bins=20,  color=\"purple\")\n",
    "plt.title('Histogram of Avg Transaction Amounts', fontsize=16)\n",
    "plt.xlabel('Avg Transaction Amount', fontsize=12)\n",
    "plt.ylabel('Frequency', fontsize=12)\n",
    "plt.show()\n"
   ]
  },
  {
   "cell_type": "markdown",
   "id": "d8e49fa6",
   "metadata": {
    "papermill": {
     "duration": 0.023176,
     "end_time": "2024-10-16T14:11:26.818520",
     "exception": false,
     "start_time": "2024-10-16T14:11:26.795344",
     "status": "completed"
    },
    "tags": []
   },
   "source": [
    "As we can see the average transaction is right skewed, with some very high transactions made with very little frequency.\n",
    "\n",
    "Let's look at the spending behaviour of active customers only"
   ]
  },
  {
   "cell_type": "code",
   "execution_count": 21,
   "id": "e723eff5",
   "metadata": {
    "execution": {
     "iopub.execute_input": "2024-10-16T14:11:26.867459Z",
     "iopub.status.busy": "2024-10-16T14:11:26.867012Z",
     "iopub.status.idle": "2024-10-16T14:11:27.555333Z",
     "shell.execute_reply": "2024-10-16T14:11:27.554185Z"
    },
    "papermill": {
     "duration": 0.716001,
     "end_time": "2024-10-16T14:11:27.558099",
     "exception": false,
     "start_time": "2024-10-16T14:11:26.842098",
     "status": "completed"
    },
    "tags": []
   },
   "outputs": [],
   "source": [
    "avg_trans = avg_trans.merge(customer_recency,on='CustomerID',how='left')"
   ]
  },
  {
   "cell_type": "code",
   "execution_count": 22,
   "id": "b8a38b1c",
   "metadata": {
    "execution": {
     "iopub.execute_input": "2024-10-16T14:11:27.607581Z",
     "iopub.status.busy": "2024-10-16T14:11:27.606796Z",
     "iopub.status.idle": "2024-10-16T14:11:28.497022Z",
     "shell.execute_reply": "2024-10-16T14:11:28.495830Z"
    },
    "papermill": {
     "duration": 0.917665,
     "end_time": "2024-10-16T14:11:28.499467",
     "exception": false,
     "start_time": "2024-10-16T14:11:27.581802",
     "status": "completed"
    },
    "tags": []
   },
   "outputs": [
    {
     "data": {
      "image/png": "[encoded data removed]",
      "text/plain": [
       "<Figure size 600x400 with 1 Axes>"
      ]
     },
     "metadata": {},
     "output_type": "display_data"
    }
   ],
   "source": [
    "data_temp = avg_trans[avg_trans['Recency_Bucket']=='0-120 days'].reset_index()['Avg Transaction amnt']\n",
    "plt.figure(figsize=(6, 4))\n",
    "sns.scatterplot(data_temp)\n",
    "plt.title('Histogram of Avg Transaction Amounts (Active Customers only)', fontsize=16)\n",
    "\n",
    "plt.show()"
   ]
  },
  {
   "cell_type": "markdown",
   "id": "abbadd58",
   "metadata": {
    "papermill": {
     "duration": 0.024608,
     "end_time": "2024-10-16T14:11:28.549307",
     "exception": false,
     "start_time": "2024-10-16T14:11:28.524699",
     "status": "completed"
    },
    "tags": []
   },
   "source": [
    "#### **Transaction Variability**\n",
    "\n",
    " Measuring the standard deviation of transaction amounts for each customer. A high variability could indicate sporadic big purchases or unstable spending behavior."
   ]
  },
  {
   "cell_type": "code",
   "execution_count": 23,
   "id": "462e790d",
   "metadata": {
    "execution": {
     "iopub.execute_input": "2024-10-16T14:11:28.601354Z",
     "iopub.status.busy": "2024-10-16T14:11:28.600888Z",
     "iopub.status.idle": "2024-10-16T14:11:30.828829Z",
     "shell.execute_reply": "2024-10-16T14:11:30.827687Z"
    },
    "papermill": {
     "duration": 2.256978,
     "end_time": "2024-10-16T14:11:30.831417",
     "exception": false,
     "start_time": "2024-10-16T14:11:28.574439",
     "status": "completed"
    },
    "tags": []
   },
   "outputs": [
    {
     "data": {
      "text/plain": [
       "count     9590.00\n",
       "mean      1461.12\n",
       "std       5091.19\n",
       "min          0.00\n",
       "25%        142.13\n",
       "50%        410.83\n",
       "75%       1144.12\n",
       "max     267438.72\n",
       "Name: TransactionAmount (INR), dtype: float64"
      ]
     },
     "execution_count": 23,
     "metadata": {},
     "output_type": "execute_result"
    }
   ],
   "source": [
    "## Lets look at only active customers\n",
    "\n",
    "Active_customers = customer_recency[customer_recency['Recency_Bucket']=='0-120 days']['CustomerID']\n",
    "freeq_customers = transactions[transactions['TransactionID']>1]['CustomerID']\n",
    "Active_customers = list(set(Active_customers) & set(freeq_customers))\n",
    "\n",
    "\n",
    "## Calculating the std of transaction amount by customer\n",
    "\n",
    "trasn_std = data.groupby('CustomerID')['TransactionAmount (INR)'].std().reset_index()\n",
    "active_cust_trans_std = trasn_std[trasn_std['CustomerID'].isin(Active_customers)]\n",
    "active_cust_trans_std['TransactionAmount (INR)'].describe()"
   ]
  },
  {
   "cell_type": "code",
   "execution_count": 24,
   "id": "f26ba6a4",
   "metadata": {
    "execution": {
     "iopub.execute_input": "2024-10-16T14:11:30.883449Z",
     "iopub.status.busy": "2024-10-16T14:11:30.883000Z",
     "iopub.status.idle": "2024-10-16T14:11:31.159445Z",
     "shell.execute_reply": "2024-10-16T14:11:31.158086Z"
    },
    "papermill": {
     "duration": 0.306089,
     "end_time": "2024-10-16T14:11:31.162599",
     "exception": false,
     "start_time": "2024-10-16T14:11:30.856510",
     "status": "completed"
    },
    "tags": []
   },
   "outputs": [
    {
     "data": {
      "image/png": "[encoded data removed]",
      "text/plain": [
       "<Figure size 600x400 with 1 Axes>"
      ]
     },
     "metadata": {},
     "output_type": "display_data"
    }
   ],
   "source": [
    "plt.figure(figsize=(6, 4))\n",
    "sns.scatterplot(active_cust_trans_std['TransactionAmount (INR)'])\n",
    "plt.title('Standard Deviation of Transaction Amounts (Active Customers only)', fontsize=16)\n",
    "\n",
    "plt.show()"
   ]
  },
  {
   "cell_type": "markdown",
   "id": "ee08ddc7",
   "metadata": {
    "papermill": {
     "duration": 0.026801,
     "end_time": "2024-10-16T14:11:31.216221",
     "exception": false,
     "start_time": "2024-10-16T14:11:31.189420",
     "status": "completed"
    },
    "tags": []
   },
   "source": [
    "The plot gives us the idea that there are so many stable transaction customers and some unstable/high transaction customers as well."
   ]
  },
  {
   "cell_type": "markdown",
   "id": "0fbb3743",
   "metadata": {
    "papermill": {
     "duration": 0.032127,
     "end_time": "2024-10-16T14:11:31.274694",
     "exception": false,
     "start_time": "2024-10-16T14:11:31.242567",
     "status": "completed"
    },
    "tags": []
   },
   "source": [
    "#### **Balance Change**\n",
    "\n",
    "We can calculate changes in balance after each transaction by looking at CustAccountBalance over time.  \n",
    "The difference in balance could indicate whether the customer is saving, withdrawing, or topping up funds."
   ]
  },
  {
   "cell_type": "code",
   "execution_count": 25,
   "id": "3b5d50e0",
   "metadata": {
    "execution": {
     "iopub.execute_input": "2024-10-16T14:11:31.340837Z",
     "iopub.status.busy": "2024-10-16T14:11:31.340347Z",
     "iopub.status.idle": "2024-10-16T14:11:34.650241Z",
     "shell.execute_reply": "2024-10-16T14:11:34.649147Z"
    },
    "papermill": {
     "duration": 3.347746,
     "end_time": "2024-10-16T14:11:34.652939",
     "exception": false,
     "start_time": "2024-10-16T14:11:31.305193",
     "status": "completed"
    },
    "tags": []
   },
   "outputs": [],
   "source": [
    "Active_customers = customer_recency[customer_recency['Recency_Bucket']=='0-120 days']['CustomerID']\n",
    "freeq_customers = transactions[transactions['TransactionID']>2]['CustomerID']\n",
    "Active_customers = list(set(Active_customers) & set(freeq_customers))\n",
    "\n",
    "## As we have max of 6 trasnactions in the data, we will create 6 lag values of account balance feature. \n",
    "## These lag values gives us the time series view of account balance after each trasactions.\n",
    "## With that done we will try to get an idea of whether amounts are withdrawn or saved over time\n",
    "\n",
    "\n",
    "## Sorting and filtering the data for active customers.\n",
    "\n",
    "balance_change_temp = data.sort_values(by=['CustomerID', 'TransactionDate'])\n",
    "balance_change_temp = balance_change_temp[balance_change_temp['CustomerID'].isin(Active_customers)]\n",
    "\n",
    "\n",
    "## Creating lag values columns\n",
    "\n",
    "balance_change_temp['lag1_balance'] = balance_change_temp.groupby('CustomerID')['CustAccountBalance'].shift(1)\n",
    "balance_change_temp['lag2_balance'] = balance_change_temp.groupby('CustomerID')['CustAccountBalance'].shift(2)\n",
    "balance_change_temp['lag3_balance'] = balance_change_temp.groupby('CustomerID')['CustAccountBalance'].shift(3)\n",
    "balance_change_temp['lag4_balance'] = balance_change_temp.groupby('CustomerID')['CustAccountBalance'].shift(4)\n",
    "balance_change_temp['lag5_balance'] = balance_change_temp.groupby('CustomerID')['CustAccountBalance'].shift(5)\n",
    "balance_change_temp['lag6_balance'] = balance_change_temp.groupby('CustomerID')['CustAccountBalance'].shift(6)\n"
   ]
  },
  {
   "cell_type": "code",
   "execution_count": 26,
   "id": "f7795ce1",
   "metadata": {
    "execution": {
     "iopub.execute_input": "2024-10-16T14:11:34.706953Z",
     "iopub.status.busy": "2024-10-16T14:11:34.706497Z",
     "iopub.status.idle": "2024-10-16T14:11:34.725362Z",
     "shell.execute_reply": "2024-10-16T14:11:34.724051Z"
    },
    "papermill": {
     "duration": 0.048944,
     "end_time": "2024-10-16T14:11:34.727964",
     "exception": false,
     "start_time": "2024-10-16T14:11:34.679020",
     "status": "completed"
    },
    "tags": []
   },
   "outputs": [
    {
     "data": {
      "text/html": [
       "<div>\n",
       "<style scoped>\n",
       "    .dataframe tbody tr th:only-of-type {\n",
       "        vertical-align: middle;\n",
       "    }\n",
       "\n",
       "    .dataframe tbody tr th {\n",
       "        vertical-align: top;\n",
       "    }\n",
       "\n",
       "    .dataframe thead th {\n",
       "        text-align: right;\n",
       "    }\n",
       "</style>\n",
       "<table border=\"1\" class=\"dataframe\">\n",
       "  <thead>\n",
       "    <tr style=\"text-align: right;\">\n",
       "      <th></th>\n",
       "      <th>TransactionID</th>\n",
       "      <th>CustomerID</th>\n",
       "      <th>CustGender</th>\n",
       "      <th>CustLocation</th>\n",
       "      <th>CustAccountBalance</th>\n",
       "      <th>TransactionDate</th>\n",
       "      <th>TransactionAmount (INR)</th>\n",
       "      <th>Age</th>\n",
       "      <th>Recency</th>\n",
       "      <th>Avg Transaction amnt</th>\n",
       "      <th>lag1_balance</th>\n",
       "      <th>lag2_balance</th>\n",
       "      <th>lag3_balance</th>\n",
       "      <th>lag4_balance</th>\n",
       "      <th>lag5_balance</th>\n",
       "      <th>lag6_balance</th>\n",
       "    </tr>\n",
       "  </thead>\n",
       "  <tbody>\n",
       "    <tr>\n",
       "      <th>202396</th>\n",
       "      <td>T202397</td>\n",
       "      <td>C1017576</td>\n",
       "      <td>M</td>\n",
       "      <td>GURGAON</td>\n",
       "      <td>4629.37</td>\n",
       "      <td>2016-09-08</td>\n",
       "      <td>2165.00</td>\n",
       "      <td>33.00</td>\n",
       "      <td>115</td>\n",
       "      <td>1754.00</td>\n",
       "      <td>NaN</td>\n",
       "      <td>NaN</td>\n",
       "      <td>NaN</td>\n",
       "      <td>NaN</td>\n",
       "      <td>NaN</td>\n",
       "      <td>NaN</td>\n",
       "    </tr>\n",
       "    <tr>\n",
       "      <th>268369</th>\n",
       "      <td>T268370</td>\n",
       "      <td>C1017576</td>\n",
       "      <td>M</td>\n",
       "      <td>HATHRAS</td>\n",
       "      <td>9129.33</td>\n",
       "      <td>2016-12-08</td>\n",
       "      <td>100.00</td>\n",
       "      <td>32.00</td>\n",
       "      <td>24</td>\n",
       "      <td>1754.00</td>\n",
       "      <td>4629.37</td>\n",
       "      <td>NaN</td>\n",
       "      <td>NaN</td>\n",
       "      <td>NaN</td>\n",
       "      <td>NaN</td>\n",
       "      <td>NaN</td>\n",
       "    </tr>\n",
       "    <tr>\n",
       "      <th>913326</th>\n",
       "      <td>T913327</td>\n",
       "      <td>C1017576</td>\n",
       "      <td>M</td>\n",
       "      <td>BAMBOLIM</td>\n",
       "      <td>246292.37</td>\n",
       "      <td>2016-12-09</td>\n",
       "      <td>2997.00</td>\n",
       "      <td>47.00</td>\n",
       "      <td>23</td>\n",
       "      <td>1754.00</td>\n",
       "      <td>9129.33</td>\n",
       "      <td>4629.37</td>\n",
       "      <td>NaN</td>\n",
       "      <td>NaN</td>\n",
       "      <td>NaN</td>\n",
       "      <td>NaN</td>\n",
       "    </tr>\n",
       "    <tr>\n",
       "      <th>312810</th>\n",
       "      <td>T312811</td>\n",
       "      <td>C1018516</td>\n",
       "      <td>F</td>\n",
       "      <td>DIMAPUR</td>\n",
       "      <td>3838.67</td>\n",
       "      <td>2016-10-08</td>\n",
       "      <td>290.00</td>\n",
       "      <td>31.00</td>\n",
       "      <td>85</td>\n",
       "      <td>1345.33</td>\n",
       "      <td>NaN</td>\n",
       "      <td>NaN</td>\n",
       "      <td>NaN</td>\n",
       "      <td>NaN</td>\n",
       "      <td>NaN</td>\n",
       "      <td>NaN</td>\n",
       "    </tr>\n",
       "    <tr>\n",
       "      <th>926726</th>\n",
       "      <td>T926727</td>\n",
       "      <td>C1018516</td>\n",
       "      <td>M</td>\n",
       "      <td>AHMEDABAD</td>\n",
       "      <td>175.13</td>\n",
       "      <td>2016-11-09</td>\n",
       "      <td>630.00</td>\n",
       "      <td>30.00</td>\n",
       "      <td>53</td>\n",
       "      <td>1345.33</td>\n",
       "      <td>3838.67</td>\n",
       "      <td>NaN</td>\n",
       "      <td>NaN</td>\n",
       "      <td>NaN</td>\n",
       "      <td>NaN</td>\n",
       "      <td>NaN</td>\n",
       "    </tr>\n",
       "  </tbody>\n",
       "</table>\n",
       "</div>"
      ],
      "text/plain": [
       "       TransactionID CustomerID CustGender CustLocation  CustAccountBalance  \\\n",
       "202396       T202397   C1017576          M      GURGAON             4629.37   \n",
       "268369       T268370   C1017576          M      HATHRAS             9129.33   \n",
       "913326       T913327   C1017576          M     BAMBOLIM           246292.37   \n",
       "312810       T312811   C1018516          F      DIMAPUR             3838.67   \n",
       "926726       T926727   C1018516          M    AHMEDABAD              175.13   \n",
       "\n",
       "       TransactionDate  TransactionAmount (INR)   Age  Recency  \\\n",
       "202396      2016-09-08                  2165.00 33.00      115   \n",
       "268369      2016-12-08                   100.00 32.00       24   \n",
       "913326      2016-12-09                  2997.00 47.00       23   \n",
       "312810      2016-10-08                   290.00 31.00       85   \n",
       "926726      2016-11-09                   630.00 30.00       53   \n",
       "\n",
       "        Avg Transaction amnt  lag1_balance  lag2_balance  lag3_balance  \\\n",
       "202396               1754.00           NaN           NaN           NaN   \n",
       "268369               1754.00       4629.37           NaN           NaN   \n",
       "913326               1754.00       9129.33       4629.37           NaN   \n",
       "312810               1345.33           NaN           NaN           NaN   \n",
       "926726               1345.33       3838.67           NaN           NaN   \n",
       "\n",
       "        lag4_balance  lag5_balance  lag6_balance  \n",
       "202396           NaN           NaN           NaN  \n",
       "268369           NaN           NaN           NaN  \n",
       "913326           NaN           NaN           NaN  \n",
       "312810           NaN           NaN           NaN  \n",
       "926726           NaN           NaN           NaN  "
      ]
     },
     "execution_count": 26,
     "metadata": {},
     "output_type": "execute_result"
    }
   ],
   "source": [
    "balance_change_temp.head()"
   ]
  },
  {
   "cell_type": "markdown",
   "id": "7a5725b8",
   "metadata": {
    "papermill": {
     "duration": 0.027537,
     "end_time": "2024-10-16T14:11:34.783022",
     "exception": false,
     "start_time": "2024-10-16T14:11:34.755485",
     "status": "completed"
    },
    "tags": []
   },
   "source": [
    "Now we can delete the unwanted rows which are initial rows and retain only last transaction row which will have all the transactions made over time\n"
   ]
  },
  {
   "cell_type": "code",
   "execution_count": 27,
   "id": "8728b606",
   "metadata": {
    "execution": {
     "iopub.execute_input": "2024-10-16T14:11:34.840520Z",
     "iopub.status.busy": "2024-10-16T14:11:34.840051Z",
     "iopub.status.idle": "2024-10-16T14:11:34.848342Z",
     "shell.execute_reply": "2024-10-16T14:11:34.846941Z"
    },
    "papermill": {
     "duration": 0.040429,
     "end_time": "2024-10-16T14:11:34.850985",
     "exception": false,
     "start_time": "2024-10-16T14:11:34.810556",
     "status": "completed"
    },
    "tags": []
   },
   "outputs": [],
   "source": [
    "transaction_data = balance_change_temp.drop_duplicates(subset='CustomerID',keep='last')"
   ]
  },
  {
   "cell_type": "markdown",
   "id": "02f73dd3",
   "metadata": {
    "papermill": {
     "duration": 0.026916,
     "end_time": "2024-10-16T14:11:34.904849",
     "exception": false,
     "start_time": "2024-10-16T14:11:34.877933",
     "status": "completed"
    },
    "tags": []
   },
   "source": [
    "Now we will check the trend of these balance amount and see if type of account they belong to."
   ]
  },
  {
   "cell_type": "code",
   "execution_count": 28,
   "id": "b345d7ec",
   "metadata": {
    "execution": {
     "iopub.execute_input": "2024-10-16T14:11:34.960172Z",
     "iopub.status.busy": "2024-10-16T14:11:34.959649Z",
     "iopub.status.idle": "2024-10-16T14:11:34.968698Z",
     "shell.execute_reply": "2024-10-16T14:11:34.967470Z"
    },
    "papermill": {
     "duration": 0.039885,
     "end_time": "2024-10-16T14:11:34.971144",
     "exception": false,
     "start_time": "2024-10-16T14:11:34.931259",
     "status": "completed"
    },
    "tags": []
   },
   "outputs": [],
   "source": [
    "# Define a function to check the trend\n",
    "def check_trend(row):\n",
    "    lags = [row['lag6_balance'], row['lag5_balance'], row['lag4_balance'], \n",
    "            row['lag3_balance'], row['lag2_balance'], row['lag1_balance'],row['CustAccountBalance']]\n",
    "    \n",
    "    # Remove any NaN values if there are missing lags\n",
    "    lags = [x for x in lags if pd.notnull(x)]\n",
    "    \n",
    "    # Check if all lag values are increasing\n",
    "    if all(x < y for x, y in zip(lags, lags[1:])):\n",
    "        return 'saving'\n",
    "    \n",
    "    # Check if all lag values are decreasing\n",
    "    elif all(x > y for x, y in zip(lags, lags[1:])):\n",
    "        return 'withdrawing'\n",
    "    \n",
    "    # If neither increasing nor decreasing, the trend is mixed\n",
    "    else:\n",
    "        return 'mixed'\n"
   ]
  },
  {
   "cell_type": "code",
   "execution_count": 29,
   "id": "4e48b812",
   "metadata": {
    "execution": {
     "iopub.execute_input": "2024-10-16T14:11:35.027923Z",
     "iopub.status.busy": "2024-10-16T14:11:35.026878Z",
     "iopub.status.idle": "2024-10-16T14:11:35.052188Z",
     "shell.execute_reply": "2024-10-16T14:11:35.051015Z"
    },
    "papermill": {
     "duration": 0.056361,
     "end_time": "2024-10-16T14:11:35.054754",
     "exception": false,
     "start_time": "2024-10-16T14:11:34.998393",
     "status": "completed"
    },
    "tags": []
   },
   "outputs": [
    {
     "name": "stderr",
     "output_type": "stream",
     "text": [
      "/tmp/ipykernel_17/1502839711.py:2: SettingWithCopyWarning: \n",
      "A value is trying to be set on a copy of a slice from a DataFrame.\n",
      "Try using .loc[row_indexer,col_indexer] = value instead\n",
      "\n",
      "See the caveats in the documentation: https://pandas.pydata.org/pandas-docs/stable/user_guide/indexing.html#returning-a-view-versus-a-copy\n",
      "  transaction_data['trend'] = transaction_data.apply(check_trend, axis=1)\n"
     ]
    }
   ],
   "source": [
    "# Apply the function to each row of the DataFrame\n",
    "transaction_data['trend'] = transaction_data.apply(check_trend, axis=1)\n"
   ]
  },
  {
   "cell_type": "code",
   "execution_count": 30,
   "id": "ae244a84",
   "metadata": {
    "execution": {
     "iopub.execute_input": "2024-10-16T14:11:35.111226Z",
     "iopub.status.busy": "2024-10-16T14:11:35.110786Z",
     "iopub.status.idle": "2024-10-16T14:11:35.118916Z",
     "shell.execute_reply": "2024-10-16T14:11:35.117774Z"
    },
    "papermill": {
     "duration": 0.03865,
     "end_time": "2024-10-16T14:11:35.121315",
     "exception": false,
     "start_time": "2024-10-16T14:11:35.082665",
     "status": "completed"
    },
    "tags": []
   },
   "outputs": [],
   "source": [
    "transaction_data = transaction_data[['CustomerID','trend']]\n",
    "transaction_data = transaction_data['trend'].value_counts().reset_index()\n"
   ]
  },
  {
   "cell_type": "code",
   "execution_count": 31,
   "id": "1ba47acb",
   "metadata": {
    "execution": {
     "iopub.execute_input": "2024-10-16T14:11:35.177720Z",
     "iopub.status.busy": "2024-10-16T14:11:35.176721Z",
     "iopub.status.idle": "2024-10-16T14:11:35.187013Z",
     "shell.execute_reply": "2024-10-16T14:11:35.185856Z"
    },
    "papermill": {
     "duration": 0.040841,
     "end_time": "2024-10-16T14:11:35.189516",
     "exception": false,
     "start_time": "2024-10-16T14:11:35.148675",
     "status": "completed"
    },
    "tags": []
   },
   "outputs": [
    {
     "data": {
      "text/html": [
       "<div>\n",
       "<style scoped>\n",
       "    .dataframe tbody tr th:only-of-type {\n",
       "        vertical-align: middle;\n",
       "    }\n",
       "\n",
       "    .dataframe tbody tr th {\n",
       "        vertical-align: top;\n",
       "    }\n",
       "\n",
       "    .dataframe thead th {\n",
       "        text-align: right;\n",
       "    }\n",
       "</style>\n",
       "<table border=\"1\" class=\"dataframe\">\n",
       "  <thead>\n",
       "    <tr style=\"text-align: right;\">\n",
       "      <th></th>\n",
       "      <th>trend</th>\n",
       "      <th>count</th>\n",
       "    </tr>\n",
       "  </thead>\n",
       "  <tbody>\n",
       "    <tr>\n",
       "      <th>0</th>\n",
       "      <td>mixed</td>\n",
       "      <td>239</td>\n",
       "    </tr>\n",
       "    <tr>\n",
       "      <th>1</th>\n",
       "      <td>withdrawing</td>\n",
       "      <td>58</td>\n",
       "    </tr>\n",
       "    <tr>\n",
       "      <th>2</th>\n",
       "      <td>saving</td>\n",
       "      <td>51</td>\n",
       "    </tr>\n",
       "  </tbody>\n",
       "</table>\n",
       "</div>"
      ],
      "text/plain": [
       "         trend  count\n",
       "0        mixed    239\n",
       "1  withdrawing     58\n",
       "2       saving     51"
      ]
     },
     "execution_count": 31,
     "metadata": {},
     "output_type": "execute_result"
    }
   ],
   "source": [
    "transaction_data"
   ]
  },
  {
   "cell_type": "code",
   "execution_count": 32,
   "id": "8ca5b8a0",
   "metadata": {
    "execution": {
     "iopub.execute_input": "2024-10-16T14:11:35.246498Z",
     "iopub.status.busy": "2024-10-16T14:11:35.246069Z",
     "iopub.status.idle": "2024-10-16T14:11:35.426371Z",
     "shell.execute_reply": "2024-10-16T14:11:35.425201Z"
    },
    "papermill": {
     "duration": 0.210925,
     "end_time": "2024-10-16T14:11:35.428788",
     "exception": false,
     "start_time": "2024-10-16T14:11:35.217863",
     "status": "completed"
    },
    "tags": []
   },
   "outputs": [
    {
     "data": {
      "text/plain": [
       "<Axes: xlabel='trend', ylabel='count'>"
      ]
     },
     "execution_count": 32,
     "metadata": {},
     "output_type": "execute_result"
    },
    {
     "data": {
      "image/png": "[encoded data removed]",
      "text/plain": [
       "<Figure size 640x480 with 1 Axes>"
      ]
     },
     "metadata": {},
     "output_type": "display_data"
    }
   ],
   "source": [
    "sns.barplot(x=transaction_data['trend'],y=transaction_data['count'])"
   ]
  },
  {
   "cell_type": "markdown",
   "id": "45b9cecc",
   "metadata": {
    "papermill": {
     "duration": 0.027373,
     "end_time": "2024-10-16T14:11:35.483676",
     "exception": false,
     "start_time": "2024-10-16T14:11:35.456303",
     "status": "completed"
    },
    "tags": []
   },
   "source": [
    "As we can see there is a significant number of accounts that are used for both depositing and withdrawing which represents salary account types. Others that are only used for withdrawing and saving are fairly in the same range and are fewer in numbers"
   ]
  },
  {
   "cell_type": "markdown",
   "id": "80fbd84b",
   "metadata": {
    "papermill": {
     "duration": 0.027351,
     "end_time": "2024-10-16T14:11:35.538466",
     "exception": false,
     "start_time": "2024-10-16T14:11:35.511115",
     "status": "completed"
    },
    "tags": []
   },
   "source": [
    "## RFM Analysis (Recency, Frequency, Monetary Value)"
   ]
  },
  {
   "cell_type": "markdown",
   "id": "8c17458f",
   "metadata": {
    "papermill": {
     "duration": 0.027365,
     "end_time": "2024-10-16T14:11:35.593479",
     "exception": false,
     "start_time": "2024-10-16T14:11:35.566114",
     "status": "completed"
    },
    "tags": []
   },
   "source": [
    "**This is a common technique in customer segmentation to categorize customers based on their transaction behavior.**    \n",
    "\n",
    "**Recency**: When was their last transaction?  \n",
    "**Frequency**: How often do they transact?  \n",
    "**Monetary**: How much do they spend?  "
   ]
  },
  {
   "cell_type": "markdown",
   "id": "434a7c60",
   "metadata": {
    "papermill": {
     "duration": 0.027489,
     "end_time": "2024-10-16T14:11:35.648491",
     "exception": false,
     "start_time": "2024-10-16T14:11:35.621002",
     "status": "completed"
    },
    "tags": []
   },
   "source": [
    "Now that we have already created all 3 Recency, Frequency, and Monetary features, let's dive into further analysis.  \n",
    "Let's assign some scores for all 3 features and then create the different buckets of feature values with combinations to segment the customers.  \n",
    "Let's start with creating the appropriate dataset we need."
   ]
  },
  {
   "cell_type": "code",
   "execution_count": 33,
   "id": "e1d73f5d",
   "metadata": {
    "execution": {
     "iopub.execute_input": "2024-10-16T14:11:35.746575Z",
     "iopub.status.busy": "2024-10-16T14:11:35.745771Z",
     "iopub.status.idle": "2024-10-16T14:11:37.929597Z",
     "shell.execute_reply": "2024-10-16T14:11:37.928463Z"
    },
    "papermill": {
     "duration": 2.215994,
     "end_time": "2024-10-16T14:11:37.932514",
     "exception": false,
     "start_time": "2024-10-16T14:11:35.716520",
     "status": "completed"
    },
    "tags": []
   },
   "outputs": [],
   "source": [
    "## Creating a dataframe to keep all customers info:\n",
    "\n",
    "RFM_data = pd.DataFrame()\n",
    "all_customers = data['CustomerID'].unique()\n",
    "\n",
    "RFM_data['CustomerID'] = all_customers\n",
    "\n",
    "\n",
    "## Merging with Transactions data to get # unique transactions made\n",
    "RFM_data = RFM_data.merge(transactions,on='CustomerID',how='left')\n",
    "RFM_data.rename(columns={'TransactionID':'Frequency'},inplace=True)\n",
    "\n",
    "\n",
    "## Merging with Recency data to get recency of each customer\n",
    "RFM_data = RFM_data.merge(customer_recency[['CustomerID','Recency']],on='CustomerID',how='left')\n",
    "\n",
    "\n",
    "## Merging with Avg transactio data to get monetary value of customers\n",
    "RFM_data = RFM_data.merge(avg_trans[['CustomerID','Avg Transaction amnt']],on='CustomerID',how='left')"
   ]
  },
  {
   "cell_type": "code",
   "execution_count": 34,
   "id": "7b390b97",
   "metadata": {
    "execution": {
     "iopub.execute_input": "2024-10-16T14:11:37.991771Z",
     "iopub.status.busy": "2024-10-16T14:11:37.991272Z",
     "iopub.status.idle": "2024-10-16T14:11:38.003776Z",
     "shell.execute_reply": "2024-10-16T14:11:38.002643Z"
    },
    "papermill": {
     "duration": 0.045599,
     "end_time": "2024-10-16T14:11:38.006446",
     "exception": false,
     "start_time": "2024-10-16T14:11:37.960847",
     "status": "completed"
    },
    "tags": []
   },
   "outputs": [
    {
     "data": {
      "text/html": [
       "<div>\n",
       "<style scoped>\n",
       "    .dataframe tbody tr th:only-of-type {\n",
       "        vertical-align: middle;\n",
       "    }\n",
       "\n",
       "    .dataframe tbody tr th {\n",
       "        vertical-align: top;\n",
       "    }\n",
       "\n",
       "    .dataframe thead th {\n",
       "        text-align: right;\n",
       "    }\n",
       "</style>\n",
       "<table border=\"1\" class=\"dataframe\">\n",
       "  <thead>\n",
       "    <tr style=\"text-align: right;\">\n",
       "      <th></th>\n",
       "      <th>CustomerID</th>\n",
       "      <th>Frequency</th>\n",
       "      <th>Recency</th>\n",
       "      <th>Avg Transaction amnt</th>\n",
       "    </tr>\n",
       "  </thead>\n",
       "  <tbody>\n",
       "    <tr>\n",
       "      <th>0</th>\n",
       "      <td>C5841053</td>\n",
       "      <td>1</td>\n",
       "      <td>328</td>\n",
       "      <td>25.00</td>\n",
       "    </tr>\n",
       "    <tr>\n",
       "      <th>1</th>\n",
       "      <td>C2142763</td>\n",
       "      <td>1</td>\n",
       "      <td>328</td>\n",
       "      <td>27999.00</td>\n",
       "    </tr>\n",
       "    <tr>\n",
       "      <th>2</th>\n",
       "      <td>C4417068</td>\n",
       "      <td>1</td>\n",
       "      <td>328</td>\n",
       "      <td>459.00</td>\n",
       "    </tr>\n",
       "    <tr>\n",
       "      <th>3</th>\n",
       "      <td>C5342380</td>\n",
       "      <td>2</td>\n",
       "      <td>328</td>\n",
       "      <td>1469.20</td>\n",
       "    </tr>\n",
       "    <tr>\n",
       "      <th>4</th>\n",
       "      <td>C9031234</td>\n",
       "      <td>1</td>\n",
       "      <td>328</td>\n",
       "      <td>1762.50</td>\n",
       "    </tr>\n",
       "  </tbody>\n",
       "</table>\n",
       "</div>"
      ],
      "text/plain": [
       "  CustomerID  Frequency  Recency  Avg Transaction amnt\n",
       "0   C5841053          1      328                 25.00\n",
       "1   C2142763          1      328              27999.00\n",
       "2   C4417068          1      328                459.00\n",
       "3   C5342380          2      328               1469.20\n",
       "4   C9031234          1      328               1762.50"
      ]
     },
     "execution_count": 34,
     "metadata": {},
     "output_type": "execute_result"
    }
   ],
   "source": [
    "RFM_data.head()"
   ]
  },
  {
   "cell_type": "markdown",
   "id": "5f8a3ee6",
   "metadata": {
    "papermill": {
     "duration": 0.027635,
     "end_time": "2024-10-16T14:11:38.062481",
     "exception": false,
     "start_time": "2024-10-16T14:11:38.034846",
     "status": "completed"
    },
    "tags": []
   },
   "source": [
    "Let's assign scores for each of RFM features for each customers.\n",
    "\n",
    "We will divide the data into 5 different even quantiles and assign scores for each of those quantiles from 1 to 5 (5 being highest)"
   ]
  },
  {
   "cell_type": "code",
   "execution_count": 35,
   "id": "f9ce2273",
   "metadata": {
    "execution": {
     "iopub.execute_input": "2024-10-16T14:11:38.120744Z",
     "iopub.status.busy": "2024-10-16T14:11:38.119768Z",
     "iopub.status.idle": "2024-10-16T14:11:38.272785Z",
     "shell.execute_reply": "2024-10-16T14:11:38.271396Z"
    },
    "papermill": {
     "duration": 0.185017,
     "end_time": "2024-10-16T14:11:38.275446",
     "exception": false,
     "start_time": "2024-10-16T14:11:38.090429",
     "status": "completed"
    },
    "tags": []
   },
   "outputs": [],
   "source": [
    "\n",
    "# Assign R, F, and M scores by dividing into quintiles\n",
    "RFM_data['R_Score'] = pd.qcut(RFM_data['Recency'], 5, labels=[5, 4, 3, 2, 1], duplicates='drop')\n",
    "\n",
    "RFM_data['F_Score'] = pd.cut(RFM_data['Frequency'], bins=5, labels=[1, 2, 3, 4, 5])\n",
    "\n",
    "\n",
    "## Since Avg Transaction is highly skewed, will transform the value first and then cut them into bins\n",
    "RFM_data['LogMonetaryValue'] = np.log1p(RFM_data['Avg Transaction amnt'])\n",
    "RFM_data['M_Score'] = pd.qcut(RFM_data['LogMonetaryValue'], 5, labels=[1, 2, 3, 4, 5], duplicates='drop')\n"
   ]
  },
  {
   "cell_type": "code",
   "execution_count": 36,
   "id": "4b988588",
   "metadata": {
    "execution": {
     "iopub.execute_input": "2024-10-16T14:11:38.332854Z",
     "iopub.status.busy": "2024-10-16T14:11:38.332430Z",
     "iopub.status.idle": "2024-10-16T14:11:39.339170Z",
     "shell.execute_reply": "2024-10-16T14:11:39.337965Z"
    },
    "papermill": {
     "duration": 1.038872,
     "end_time": "2024-10-16T14:11:39.342210",
     "exception": false,
     "start_time": "2024-10-16T14:11:38.303338",
     "status": "completed"
    },
    "tags": []
   },
   "outputs": [],
   "source": [
    "# Combine R, F, and M scores into a single RFM Score\n",
    "RFM_data['RFM_Score'] = RFM_data['R_Score'].astype(str) + RFM_data['F_Score'].astype(str) + RFM_data['M_Score'].astype(str)"
   ]
  },
  {
   "cell_type": "markdown",
   "id": "3b505c5b",
   "metadata": {
    "papermill": {
     "duration": 0.028036,
     "end_time": "2024-10-16T14:11:39.399499",
     "exception": false,
     "start_time": "2024-10-16T14:11:39.371463",
     "status": "completed"
    },
    "tags": []
   },
   "source": [
    "#### **We can now segment customers based on these RFM scores. Here are some commonly used segments:**\n",
    "\n",
    "**Best Customers**: Customers with an high RFM (highest Recency, Frequency, and Monetary).  \n",
    "**Loyal Customers**: Customers with high Frequency and Monetary scores, but possibly lower Recency.  \n",
    "**At-Risk Customers**: Previously high-value customers (high Frequency and Monetary scores) but haven't transacted recently.  \n",
    "**New Customers**: Customers with high Recency but low Frequency and Monetary scores.  \n",
    "**Hibernating Customers**: Customers with low Recency, Frequency, and Monetary scores.  \n",
    "**Big Spenders**: Customers with high Monetary scores but possibly low Recency and Frequency.  \n",
    "**Other**: A catch-all for any customer who doesn’t fit into the predefined segments.  "
   ]
  },
  {
   "cell_type": "code",
   "execution_count": 37,
   "id": "3e8641cb",
   "metadata": {
    "execution": {
     "iopub.execute_input": "2024-10-16T14:11:39.458399Z",
     "iopub.status.busy": "2024-10-16T14:11:39.457975Z",
     "iopub.status.idle": "2024-10-16T14:11:39.468100Z",
     "shell.execute_reply": "2024-10-16T14:11:39.466887Z"
    },
    "papermill": {
     "duration": 0.04263,
     "end_time": "2024-10-16T14:11:39.470692",
     "exception": false,
     "start_time": "2024-10-16T14:11:39.428062",
     "status": "completed"
    },
    "tags": []
   },
   "outputs": [],
   "source": [
    "def rfm_segment(df):\n",
    "    if df['R_Score'] in ['4', '5'] and df['F_Score'] in ['4', '5'] and df['M_Score'] in ['4', '5']:\n",
    "        return 'Best Customers'\n",
    "    elif df['R_Score'] in ['3','4', '5'] and df['F_Score'] in ['4', '5'] and df['M_Score'] in ['3','4', '5']:\n",
    "        return 'Loyal Customers'\n",
    "    elif df['R_Score'] in ['1','2'] and df['F_Score'] in ['4', '5'] and df['M_Score'] in ['3','4', '5']:\n",
    "        return 'At-Risk Customers'\n",
    "    elif df['R_Score'] in ['4','5'] and df['F_Score'] in ['1','2'] and df['M_Score'] in ['1','2']:\n",
    "        return 'New Customers'\n",
    "    elif df['R_Score'] in ['1','2'] and df['F_Score'] in ['1','2'] and df['M_Score'] in ['1','2','3']:\n",
    "        return 'Hibernating Customers'\n",
    "    elif df['M_Score'] in ['4', '5'] and df['R_Score'] in ['1', '2'] and df['F_Score'] in ['1', '2']:\n",
    "        return 'Big Spenders'\n",
    "    else:\n",
    "        return 'Other'"
   ]
  },
  {
   "cell_type": "code",
   "execution_count": 38,
   "id": "a214a3b9",
   "metadata": {
    "execution": {
     "iopub.execute_input": "2024-10-16T14:11:39.529205Z",
     "iopub.status.busy": "2024-10-16T14:11:39.528049Z",
     "iopub.status.idle": "2024-10-16T14:12:14.647853Z",
     "shell.execute_reply": "2024-10-16T14:12:14.646666Z"
    },
    "papermill": {
     "duration": 35.152378,
     "end_time": "2024-10-16T14:12:14.651123",
     "exception": false,
     "start_time": "2024-10-16T14:11:39.498745",
     "status": "completed"
    },
    "tags": []
   },
   "outputs": [],
   "source": [
    "# Apply the segment labeling function to each row\n",
    "# RFM_data['RFM_Score'] = RFM_data['RFM_Score'].astype(str)\n",
    "RFM_data['R_Score'] = RFM_data['R_Score'].astype(str)\n",
    "RFM_data['F_Score'] = RFM_data['F_Score'].astype(str)\n",
    "RFM_data['M_Score'] = RFM_data['M_Score'].astype(str)\n",
    "\n",
    "RFM_data['Segment'] = RFM_data.apply(rfm_segment, axis=1)\n"
   ]
  },
  {
   "cell_type": "code",
   "execution_count": 39,
   "id": "102ee8f6",
   "metadata": {
    "execution": {
     "iopub.execute_input": "2024-10-16T14:12:14.713499Z",
     "iopub.status.busy": "2024-10-16T14:12:14.712443Z",
     "iopub.status.idle": "2024-10-16T14:12:14.728657Z",
     "shell.execute_reply": "2024-10-16T14:12:14.727233Z"
    },
    "papermill": {
     "duration": 0.048698,
     "end_time": "2024-10-16T14:12:14.731476",
     "exception": false,
     "start_time": "2024-10-16T14:12:14.682778",
     "status": "completed"
    },
    "tags": []
   },
   "outputs": [
    {
     "data": {
      "text/html": [
       "<div>\n",
       "<style scoped>\n",
       "    .dataframe tbody tr th:only-of-type {\n",
       "        vertical-align: middle;\n",
       "    }\n",
       "\n",
       "    .dataframe tbody tr th {\n",
       "        vertical-align: top;\n",
       "    }\n",
       "\n",
       "    .dataframe thead th {\n",
       "        text-align: right;\n",
       "    }\n",
       "</style>\n",
       "<table border=\"1\" class=\"dataframe\">\n",
       "  <thead>\n",
       "    <tr style=\"text-align: right;\">\n",
       "      <th></th>\n",
       "      <th>CustomerID</th>\n",
       "      <th>Frequency</th>\n",
       "      <th>Recency</th>\n",
       "      <th>Avg Transaction amnt</th>\n",
       "      <th>R_Score</th>\n",
       "      <th>F_Score</th>\n",
       "      <th>LogMonetaryValue</th>\n",
       "      <th>M_Score</th>\n",
       "      <th>RFM_Score</th>\n",
       "      <th>Segment</th>\n",
       "    </tr>\n",
       "  </thead>\n",
       "  <tbody>\n",
       "    <tr>\n",
       "      <th>0</th>\n",
       "      <td>C5841053</td>\n",
       "      <td>1</td>\n",
       "      <td>328</td>\n",
       "      <td>25.00</td>\n",
       "      <td>1</td>\n",
       "      <td>1</td>\n",
       "      <td>3.26</td>\n",
       "      <td>1</td>\n",
       "      <td>111</td>\n",
       "      <td>Hibernating Customers</td>\n",
       "    </tr>\n",
       "    <tr>\n",
       "      <th>1</th>\n",
       "      <td>C2142763</td>\n",
       "      <td>1</td>\n",
       "      <td>328</td>\n",
       "      <td>27999.00</td>\n",
       "      <td>1</td>\n",
       "      <td>1</td>\n",
       "      <td>10.24</td>\n",
       "      <td>5</td>\n",
       "      <td>115</td>\n",
       "      <td>Big Spenders</td>\n",
       "    </tr>\n",
       "    <tr>\n",
       "      <th>2</th>\n",
       "      <td>C4417068</td>\n",
       "      <td>1</td>\n",
       "      <td>328</td>\n",
       "      <td>459.00</td>\n",
       "      <td>1</td>\n",
       "      <td>1</td>\n",
       "      <td>6.13</td>\n",
       "      <td>3</td>\n",
       "      <td>113</td>\n",
       "      <td>Hibernating Customers</td>\n",
       "    </tr>\n",
       "    <tr>\n",
       "      <th>3</th>\n",
       "      <td>C5342380</td>\n",
       "      <td>2</td>\n",
       "      <td>328</td>\n",
       "      <td>1469.20</td>\n",
       "      <td>1</td>\n",
       "      <td>1</td>\n",
       "      <td>7.29</td>\n",
       "      <td>4</td>\n",
       "      <td>114</td>\n",
       "      <td>Big Spenders</td>\n",
       "    </tr>\n",
       "    <tr>\n",
       "      <th>4</th>\n",
       "      <td>C9031234</td>\n",
       "      <td>1</td>\n",
       "      <td>328</td>\n",
       "      <td>1762.50</td>\n",
       "      <td>1</td>\n",
       "      <td>1</td>\n",
       "      <td>7.48</td>\n",
       "      <td>5</td>\n",
       "      <td>115</td>\n",
       "      <td>Big Spenders</td>\n",
       "    </tr>\n",
       "  </tbody>\n",
       "</table>\n",
       "</div>"
      ],
      "text/plain": [
       "  CustomerID  Frequency  Recency  Avg Transaction amnt R_Score F_Score  \\\n",
       "0   C5841053          1      328                 25.00       1       1   \n",
       "1   C2142763          1      328              27999.00       1       1   \n",
       "2   C4417068          1      328                459.00       1       1   \n",
       "3   C5342380          2      328               1469.20       1       1   \n",
       "4   C9031234          1      328               1762.50       1       1   \n",
       "\n",
       "   LogMonetaryValue M_Score RFM_Score                Segment  \n",
       "0              3.26       1       111  Hibernating Customers  \n",
       "1             10.24       5       115           Big Spenders  \n",
       "2              6.13       3       113  Hibernating Customers  \n",
       "3              7.29       4       114           Big Spenders  \n",
       "4              7.48       5       115           Big Spenders  "
      ]
     },
     "execution_count": 39,
     "metadata": {},
     "output_type": "execute_result"
    }
   ],
   "source": [
    "RFM_data.head()"
   ]
  },
  {
   "cell_type": "code",
   "execution_count": 40,
   "id": "3b9166dc",
   "metadata": {
    "execution": {
     "iopub.execute_input": "2024-10-16T14:12:14.790609Z",
     "iopub.status.busy": "2024-10-16T14:12:14.789509Z",
     "iopub.status.idle": "2024-10-16T14:12:14.858882Z",
     "shell.execute_reply": "2024-10-16T14:12:14.857562Z"
    },
    "papermill": {
     "duration": 0.102307,
     "end_time": "2024-10-16T14:12:14.862308",
     "exception": false,
     "start_time": "2024-10-16T14:12:14.760001",
     "status": "completed"
    },
    "tags": []
   },
   "outputs": [
    {
     "name": "stdout",
     "output_type": "stream",
     "text": [
      "       CustomerID RFM_Score                Segment\n",
      "0        C5841053       111  Hibernating Customers\n",
      "1        C2142763       115           Big Spenders\n",
      "2        C4417068       113  Hibernating Customers\n",
      "3        C5342380       114           Big Spenders\n",
      "4        C9031234       115           Big Spenders\n",
      "...           ...       ...                    ...\n",
      "839830   C5028150       515                  Other\n",
      "839831   C1034220       514                  Other\n",
      "839832   C8020229       514                  Other\n",
      "839833   C6459278       513                  Other\n",
      "839834   C6420483       514                  Other\n",
      "\n",
      "[839835 rows x 3 columns]\n"
     ]
    }
   ],
   "source": [
    "print(RFM_data[['CustomerID', 'RFM_Score', 'Segment']])\n"
   ]
  },
  {
   "cell_type": "code",
   "execution_count": 41,
   "id": "b125d9f7",
   "metadata": {
    "execution": {
     "iopub.execute_input": "2024-10-16T14:12:14.921727Z",
     "iopub.status.busy": "2024-10-16T14:12:14.921283Z",
     "iopub.status.idle": "2024-10-16T14:12:14.973466Z",
     "shell.execute_reply": "2024-10-16T14:12:14.972295Z"
    },
    "papermill": {
     "duration": 0.085124,
     "end_time": "2024-10-16T14:12:14.976497",
     "exception": false,
     "start_time": "2024-10-16T14:12:14.891373",
     "status": "completed"
    },
    "tags": []
   },
   "outputs": [
    {
     "data": {
      "text/html": [
       "<div>\n",
       "<style scoped>\n",
       "    .dataframe tbody tr th:only-of-type {\n",
       "        vertical-align: middle;\n",
       "    }\n",
       "\n",
       "    .dataframe tbody tr th {\n",
       "        vertical-align: top;\n",
       "    }\n",
       "\n",
       "    .dataframe thead th {\n",
       "        text-align: right;\n",
       "    }\n",
       "</style>\n",
       "<table border=\"1\" class=\"dataframe\">\n",
       "  <thead>\n",
       "    <tr style=\"text-align: right;\">\n",
       "      <th></th>\n",
       "      <th>Segment</th>\n",
       "      <th>count</th>\n",
       "    </tr>\n",
       "  </thead>\n",
       "  <tbody>\n",
       "    <tr>\n",
       "      <th>0</th>\n",
       "      <td>Other</td>\n",
       "      <td>372641</td>\n",
       "    </tr>\n",
       "    <tr>\n",
       "      <th>1</th>\n",
       "      <td>Hibernating Customers</td>\n",
       "      <td>186871</td>\n",
       "    </tr>\n",
       "    <tr>\n",
       "      <th>2</th>\n",
       "      <td>New Customers</td>\n",
       "      <td>146598</td>\n",
       "    </tr>\n",
       "    <tr>\n",
       "      <th>3</th>\n",
       "      <td>Big Spenders</td>\n",
       "      <td>133622</td>\n",
       "    </tr>\n",
       "    <tr>\n",
       "      <th>4</th>\n",
       "      <td>At-Risk Customers</td>\n",
       "      <td>90</td>\n",
       "    </tr>\n",
       "    <tr>\n",
       "      <th>5</th>\n",
       "      <td>Loyal Customers</td>\n",
       "      <td>12</td>\n",
       "    </tr>\n",
       "    <tr>\n",
       "      <th>6</th>\n",
       "      <td>Best Customers</td>\n",
       "      <td>1</td>\n",
       "    </tr>\n",
       "  </tbody>\n",
       "</table>\n",
       "</div>"
      ],
      "text/plain": [
       "                 Segment   count\n",
       "0                  Other  372641\n",
       "1  Hibernating Customers  186871\n",
       "2          New Customers  146598\n",
       "3           Big Spenders  133622\n",
       "4      At-Risk Customers      90\n",
       "5        Loyal Customers      12\n",
       "6         Best Customers       1"
      ]
     },
     "execution_count": 41,
     "metadata": {},
     "output_type": "execute_result"
    }
   ],
   "source": [
    "segments_count = RFM_data['Segment'].value_counts().reset_index()\n",
    "segments_count"
   ]
  },
  {
   "cell_type": "code",
   "execution_count": 42,
   "id": "7d24de32",
   "metadata": {
    "execution": {
     "iopub.execute_input": "2024-10-16T14:12:15.038771Z",
     "iopub.status.busy": "2024-10-16T14:12:15.038227Z",
     "iopub.status.idle": "2024-10-16T14:12:15.300987Z",
     "shell.execute_reply": "2024-10-16T14:12:15.299559Z"
    },
    "papermill": {
     "duration": 0.298101,
     "end_time": "2024-10-16T14:12:15.304063",
     "exception": false,
     "start_time": "2024-10-16T14:12:15.005962",
     "status": "completed"
    },
    "tags": []
   },
   "outputs": [
    {
     "data": {
      "image/png": "[encoded data removed]",
      "text/plain": [
       "<Figure size 1200x400 with 1 Axes>"
      ]
     },
     "metadata": {},
     "output_type": "display_data"
    }
   ],
   "source": [
    "\n",
    "plt.figure(figsize=(12, 4))\n",
    "plt.bar(segments_count['Segment'],segments_count['count'])\n",
    "# plt.legend(segments_count['Segment'], title=\"Segments\", loc=\"best\")\n",
    "plt.title('Customer Segments Distribution', fontsize=16)\n",
    "# plt.axis('equal')  # Equal aspect ratio ensures that pie is drawn as a circle.\n",
    "plt.show()"
   ]
  },
  {
   "cell_type": "code",
   "execution_count": 43,
   "id": "757134df",
   "metadata": {
    "execution": {
     "iopub.execute_input": "2024-10-16T14:12:15.372084Z",
     "iopub.status.busy": "2024-10-16T14:12:15.371034Z",
     "iopub.status.idle": "2024-10-16T14:12:15.615720Z",
     "shell.execute_reply": "2024-10-16T14:12:15.614676Z"
    },
    "papermill": {
     "duration": 0.279712,
     "end_time": "2024-10-16T14:12:15.618569",
     "exception": false,
     "start_time": "2024-10-16T14:12:15.338857",
     "status": "completed"
    },
    "tags": []
   },
   "outputs": [
    {
     "data": {
      "image/png": "[encoded data removed]",
      "text/plain": [
       "<Figure size 1200x400 with 1 Axes>"
      ]
     },
     "metadata": {},
     "output_type": "display_data"
    }
   ],
   "source": [
    "# Define custom colors for each segment\n",
    "colors = ['#ff7043',  # Other \n",
    "          '#039be5',  # Big spenders\n",
    "          '#78909c',  # Hibernating\n",
    "          '#4caf50',  # New\n",
    "          '#fcf3cf',  # At Risk\n",
    "          '#4682B4',  # \n",
    "          '#d1c4e9']  # \n",
    "\n",
    "\n",
    "plt.figure(figsize=(12, 4))\n",
    "plt.pie(segments_count['count'], startangle=90, colors=colors)\n",
    "plt.legend(segments_count['Segment'], title=\"Segments\", loc=\"best\")\n",
    "plt.title('Customer Segments Distribution', fontsize=16)\n",
    "plt.axis('equal')  # Equal aspect ratio ensures that pie is drawn as a circle.\n",
    "plt.show()"
   ]
  },
  {
   "cell_type": "markdown",
   "id": "550e9cb5",
   "metadata": {
    "papermill": {
     "duration": 0.029369,
     "end_time": "2024-10-16T14:12:15.680419",
     "exception": false,
     "start_time": "2024-10-16T14:12:15.651050",
     "status": "completed"
    },
    "tags": []
   },
   "source": [
    "## Customer Profiling\n"
   ]
  },
  {
   "cell_type": "markdown",
   "id": "8135ee8a",
   "metadata": {
    "papermill": {
     "duration": 0.029394,
     "end_time": "2024-10-16T14:12:15.739302",
     "exception": false,
     "start_time": "2024-10-16T14:12:15.709908",
     "status": "completed"
    },
    "tags": []
   },
   "source": [
    "#### 1. Best Customers (High Frequency, Recency and Monetary Scores)\n",
    "\n",
    "Profile:\n",
    "Behavior: These customers are the most engaged. They purchase frequently, spend the most, and have recently made a transaction.  \n",
    "Value: High-value customers in terms of profitability and long-term loyalty."
   ]
  },
  {
   "cell_type": "markdown",
   "id": "d8ad756a",
   "metadata": {
    "papermill": {
     "duration": 0.029288,
     "end_time": "2024-10-16T14:12:15.798250",
     "exception": false,
     "start_time": "2024-10-16T14:12:15.768962",
     "status": "completed"
    },
    "tags": []
   },
   "source": [
    "#### 2. Loyal Customers (High Frequency and Monetary Scores)\n",
    "\n",
    "Profile:\n",
    "Behavior: These customers purchase frequently and spend significantly, but may not have made a very recent transaction.  \n",
    "Value: They are steady and reliable customers who can be nurtured into Best Customers with the right engagement."
   ]
  },
  {
   "cell_type": "markdown",
   "id": "0ce27323",
   "metadata": {
    "papermill": {
     "duration": 0.029318,
     "end_time": "2024-10-16T14:12:15.857140",
     "exception": false,
     "start_time": "2024-10-16T14:12:15.827822",
     "status": "completed"
    },
    "tags": []
   },
   "source": [
    "#### 3. At-Risk Customers (High Frequency and Monetary, Low Recency)\n",
    "\n",
    "Profile: These customers were previously highly engaged, but they haven’t transacted recently.  \n",
    "Value: They were once valuable but are now at risk of churning. They have to be re-engaged before they leave permanently."
   ]
  },
  {
   "cell_type": "markdown",
   "id": "028cea66",
   "metadata": {
    "papermill": {
     "duration": 0.029282,
     "end_time": "2024-10-16T14:12:15.916094",
     "exception": false,
     "start_time": "2024-10-16T14:12:15.886812",
     "status": "completed"
    },
    "tags": []
   },
   "source": [
    "#### 4. New Customers (High Recency, Low Frequency and Monetary)\n",
    "\n",
    "Profile: These are recent customers who have made a small or one-time purchase.  \n",
    "Value: They are early in their journey and represent potential growth opportunities, but are still unproven."
   ]
  },
  {
   "cell_type": "markdown",
   "id": "5544a323",
   "metadata": {
    "papermill": {
     "duration": 0.029556,
     "end_time": "2024-10-16T14:12:15.975430",
     "exception": false,
     "start_time": "2024-10-16T14:12:15.945874",
     "status": "completed"
    },
    "tags": []
   },
   "source": [
    "#### 5. Hibernating Customers (Low Recency, Frequency, and Monetary Scores)\n",
    "\n",
    "Profile: These customers have had minimal interaction with the bank. They are close to being considered lost.\n",
    "Value: Low current value, but it’s worth trying a reactivation strategy if banks can identify what went wrong."
   ]
  },
  {
   "cell_type": "markdown",
   "id": "38cb69ed",
   "metadata": {
    "papermill": {
     "duration": 0.029745,
     "end_time": "2024-10-16T14:12:16.035256",
     "exception": false,
     "start_time": "2024-10-16T14:12:16.005511",
     "status": "completed"
    },
    "tags": []
   },
   "source": [
    "#### 6. Big Spenders (High Monetary, Low Recency and Frequency)\n",
    "\n",
    "Profile: These customers may not transact often, but when they do, they transact significantly.  \n",
    "Value: High potential value because they make large transactions. "
   ]
  },
  {
   "cell_type": "markdown",
   "id": "5cb45479",
   "metadata": {
    "papermill": {
     "duration": 0.029629,
     "end_time": "2024-10-16T14:12:16.095205",
     "exception": false,
     "start_time": "2024-10-16T14:12:16.065576",
     "status": "completed"
    },
    "tags": []
   },
   "source": [
    "#### 7. Lost Customers (Low Recency, Frequency, and Monetary)\n",
    "\n",
    "\n",
    "Profile: These customers haven’t engaged with the bank for a long time and are close to being considered churned.  \n",
    "Value: Low value unless they can be reactivated, but their past engagement history suggests they might not come back easily."
   ]
  },
  {
   "cell_type": "markdown",
   "id": "9e07c8d3",
   "metadata": {
    "papermill": {
     "duration": 0.029671,
     "end_time": "2024-10-16T14:12:16.154860",
     "exception": false,
     "start_time": "2024-10-16T14:12:16.125189",
     "status": "completed"
    },
    "tags": []
   },
   "source": [
    "#### 8. Other Segments (Mixed RFM Scores)\n",
    "\n",
    "Profile: Customers with mid-range RFM scores may have moderate engagement. They’re not too recent, frequent, or high spenders, but they’re also not entirely dormant.  \n",
    "Value: These customers could go either way – they might turn into more valuable customers or lapse into inactivity if not nurtured."
   ]
  },
  {
   "cell_type": "markdown",
   "id": "e0895575",
   "metadata": {
    "papermill": {
     "duration": 0.029979,
     "end_time": "2024-10-16T14:12:16.215030",
     "exception": false,
     "start_time": "2024-10-16T14:12:16.185051",
     "status": "completed"
    },
    "tags": []
   },
   "source": [
    "\n",
    "## Conclusion\n",
    "\n",
    "In this project, we performed a detailed **Exploratory Data Analysis (EDA)** followed by **RFM analysis** to segment the bank’s customer base. By evaluating customers on the three dimensions of **Recency**, **Frequency**, and **Monetary value**, we were able to create meaningful customer segments, each with distinct behavioral characteristics.\n",
    "\n",
    "These insights provide actionable information that can help the bank refine its customer engagement strategies. High-value and loyal customers can be targeted for retention efforts, while infrequent or low-value customers may benefit from re-engagement campaigns. RFM segmentation not only highlights the value of each customer group but also enables more personalized marketing efforts, which can lead to improved customer satisfaction and profitability.\n",
    "\n",
    "Future work could involve tracking how customers move between segments over time and integrating additional behavioral or demographic data for a more comprehensive view of customer preferences.\n"
   ]
  },
  {
   "cell_type": "markdown",
   "id": "e88e4ccc",
   "metadata": {
    "papermill": {
     "duration": 0.029724,
     "end_time": "2024-10-16T14:12:16.275490",
     "exception": false,
     "start_time": "2024-10-16T14:12:16.245766",
     "status": "completed"
    },
    "tags": []
   },
   "source": [
    "# **Thank You !!!!!**"
   ]
  }
 ],
 "metadata": {
  "kaggle": {
   "accelerator": "none",
   "dataSources": [
    {
     "datasetId": 1672910,
     "sourceId": 2743905,
     "sourceType": "datasetVersion"
    }
   ],
   "dockerImageVersionId": 30786,
   "isGpuEnabled": false,
   "isInternetEnabled": true,
   "language": "python",
   "sourceType": "notebook"
  },
  "kernelspec": {
   "display_name": "Python 3",
   "language": "python",
   "name": "python3"
  },
  "language_info": {
   "codemirror_mode": {
    "name": "ipython",
    "version": 3
   },
   "file_extension": ".py",
   "mimetype": "text/x-python",
   "name": "python",
   "nbconvert_exporter": "python",
   "pygments_lexer": "ipython3",
   "version": "3.10.14"
  },
  "papermill": {
   "default_parameters": {},
   "duration": 75.600148,
   "end_time": "2024-10-16T14:12:17.028830",
   "environment_variables": {},
   "exception": null,
   "input_path": "__notebook__.ipynb",
   "output_path": "__notebook__.ipynb",
   "parameters": {},
   "start_time": "2024-10-16T14:11:01.428682",
   "version": "2.6.0"
  }
 },
 "nbformat": 4,
 "nbformat_minor": 5
}
