{
 "cells": [
  {
   "cell_type": "markdown",
   "id": "c0ce71d4-2d5e-4805-bb21-ceda5840dd04",
   "metadata": {},
   "source": [
    "# Introduction to Mixed-Effects Models\n",
    "\n",
    "## What are Mixed-Effects Models?\n",
    "\n",
    "Mixed-effects models, also known as hierarchical or multilevel models, are statistical models that incorporate both fixed and random effects. These models are particularly useful when dealing with data that has a hierarchical structure, such as repeated measures from the same subjects, nested data, or data collected from multiple groups.\n"
   ]
  },
  {
   "cell_type": "markdown",
   "id": "4a8d0c7a-e177-46ab-8bd5-f49fc9e86d13",
   "metadata": {},
   "source": [
    "### Key Concepts\n",
    "\n",
    "1. **Fixed Effects**:\n",
    "   - Fixed effects represent the average effect of predictors (independent variables) across all observations. These are the traditional coefficients estimated in standard regression models.\n",
    "\n",
    "2. **Random Effects**:\n",
    "   - Random effects account for variability across groups or subjects. They allow the model to capture individual differences by including random intercepts or slopes, enabling a more flexible fit to the data.\n"
   ]
  },
  {
   "cell_type": "markdown",
   "id": "b7022fd2-3800-46cc-a922-bf51f8a837bd",
   "metadata": {},
   "source": [
    "### Why Use Mixed-Effects Models?\n",
    "\n",
    "- **Hierarchical Data**: When data are collected in groups (e.g., students within schools, patients within clinics), mixed-effects models appropriately account for the dependence of observations within the same group.\n",
    "- **Repeated Measures**: They are ideal for analyzing longitudinal data, where the same subjects are measured multiple times.\n",
    "- **Increased Precision**: By modeling random effects, mixed-effects models can provide more accurate estimates of fixed effects by borrowing strength across groups.\n"
   ]
  },
  {
   "cell_type": "markdown",
   "id": "249cfe37-f0dd-484a-9738-89b7b371248f",
   "metadata": {},
   "source": [
    "### Model Specification\n",
    "\n",
    "A typical mixed-effects model can be represented as:\n",
    "\n",
    "$$\n",
    "Y_{ij} = \\beta_0 + \\beta_1 X_{ij} + u_{0j} + \\epsilon_{ij}\n",
    "$$\n",
    "\n",
    "Where:\n",
    "- $Y_{ij}$ is the response variable for the $i$-th observation in the $j$-th group.\n",
    "- $\\beta_0$ is the fixed intercept.\n",
    "- $\\beta_1$ is the fixed effect for the predictor $X$.\n",
    "- $u_{0j}$ is the random effect for the $j$-th group (random intercept).\n",
    "- $\\epsilon_{ij}$ is the residual error.\n"
   ]
  },
  {
   "cell_type": "markdown",
   "id": "c3897178-2a15-4b3c-9d98-79882dab7b3c",
   "metadata": {},
   "source": [
    "### Implementation in Python\n",
    "\n",
    "In Python, mixed-effects models can be fitted using the `statsmodels` library, which provides the `MixedLM` function. This allows researchers to specify both fixed and random effects in a straightforward manner.\n"
   ]
  },
  {
   "cell_type": "markdown",
   "id": "f466861f-1551-4cb7-994a-ab8e701fdb7c",
   "metadata": {},
   "source": [
    "### About the notebook\n",
    "\n",
    "In this notebook I am trying to demonstrate how we fit a mixed effect model and evaluate its performance.  \n",
    "We will fit a mixed effect model for a simple dataset which shows the reaction time of the individuals for 10 days during when they were sleep deprived.\n",
    "\n",
    "The objective of this notebook is to use this dataset and demonstrate the methods of fitting a mixed effect model for a longitudinal data.\n"
   ]
  },
  {
   "cell_type": "markdown",
   "id": "0f5ede65-d104-4184-8adc-7662b9a60df3",
   "metadata": {},
   "source": [
    "## Importing libraries and Data"
   ]
  },
  {
   "cell_type": "code",
   "execution_count": 5,
   "id": "707a792e-46d4-43bb-838c-763bd887b023",
   "metadata": {},
   "outputs": [],
   "source": [
    "import pandas as pd\n",
    "import numpy as np\n",
    "import statsmodels.formula.api as smf"
   ]
  },
  {
   "cell_type": "code",
   "execution_count": 6,
   "id": "a829ff0a-d4b0-416f-94a0-ee7581659cdd",
   "metadata": {},
   "outputs": [],
   "source": [
    "data = pd.read_csv(\"sleepstudy.csv\")"
   ]
  },
  {
   "cell_type": "code",
   "execution_count": 7,
   "id": "86731a2e-fdd6-4ff3-b659-faca36d0b6d6",
   "metadata": {},
   "outputs": [
    {
     "data": {
      "text/html": [
       "<div>\n",
       "<style scoped>\n",
       "    .dataframe tbody tr th:only-of-type {\n",
       "        vertical-align: middle;\n",
       "    }\n",
       "\n",
       "    .dataframe tbody tr th {\n",
       "        vertical-align: top;\n",
       "    }\n",
       "\n",
       "    .dataframe thead th {\n",
       "        text-align: right;\n",
       "    }\n",
       "</style>\n",
       "<table border=\"1\" class=\"dataframe\">\n",
       "  <thead>\n",
       "    <tr style=\"text-align: right;\">\n",
       "      <th></th>\n",
       "      <th>Unnamed: 0</th>\n",
       "      <th>Reaction</th>\n",
       "      <th>Days</th>\n",
       "      <th>Subject</th>\n",
       "    </tr>\n",
       "  </thead>\n",
       "  <tbody>\n",
       "    <tr>\n",
       "      <th>0</th>\n",
       "      <td>1</td>\n",
       "      <td>249.5600</td>\n",
       "      <td>0</td>\n",
       "      <td>308</td>\n",
       "    </tr>\n",
       "    <tr>\n",
       "      <th>1</th>\n",
       "      <td>2</td>\n",
       "      <td>258.7047</td>\n",
       "      <td>1</td>\n",
       "      <td>308</td>\n",
       "    </tr>\n",
       "    <tr>\n",
       "      <th>2</th>\n",
       "      <td>3</td>\n",
       "      <td>250.8006</td>\n",
       "      <td>2</td>\n",
       "      <td>308</td>\n",
       "    </tr>\n",
       "    <tr>\n",
       "      <th>3</th>\n",
       "      <td>4</td>\n",
       "      <td>321.4398</td>\n",
       "      <td>3</td>\n",
       "      <td>308</td>\n",
       "    </tr>\n",
       "    <tr>\n",
       "      <th>4</th>\n",
       "      <td>5</td>\n",
       "      <td>356.8519</td>\n",
       "      <td>4</td>\n",
       "      <td>308</td>\n",
       "    </tr>\n",
       "  </tbody>\n",
       "</table>\n",
       "</div>"
      ],
      "text/plain": [
       "   Unnamed: 0  Reaction  Days  Subject\n",
       "0           1  249.5600     0      308\n",
       "1           2  258.7047     1      308\n",
       "2           3  250.8006     2      308\n",
       "3           4  321.4398     3      308\n",
       "4           5  356.8519     4      308"
      ]
     },
     "execution_count": 7,
     "metadata": {},
     "output_type": "execute_result"
    }
   ],
   "source": [
    "data.head()"
   ]
  },
  {
   "cell_type": "code",
   "execution_count": 8,
   "id": "a109c5ef-ef7c-40d6-979e-d3142028d67d",
   "metadata": {},
   "outputs": [
    {
     "data": {
      "text/plain": [
       "18"
      ]
     },
     "execution_count": 8,
     "metadata": {},
     "output_type": "execute_result"
    }
   ],
   "source": [
    "data['Subject'].nunique()"
   ]
  },
  {
   "cell_type": "code",
   "execution_count": 9,
   "id": "5ffd0c01-c478-43c5-b976-da8ad3304649",
   "metadata": {},
   "outputs": [
    {
     "data": {
      "text/plain": [
       "10"
      ]
     },
     "execution_count": 9,
     "metadata": {},
     "output_type": "execute_result"
    }
   ],
   "source": [
    "data['Days'].nunique()"
   ]
  },
  {
   "cell_type": "markdown",
   "id": "0fa6a45c-61ca-47d9-91da-7eecbaf00342",
   "metadata": {},
   "source": [
    "The study is conducted in 18 subjects for 10 days."
   ]
  },
  {
   "cell_type": "markdown",
   "id": "e3d0fb00-0c61-41b9-a423-e71d2f63398a",
   "metadata": {},
   "source": [
    "## Model specifications\n",
    "\n",
    "In this dataset we can assume the fixed and random effects as below\n",
    "\n",
    "1. The effect of sleep deprivation will have a fixed effect on every subjects.\n",
    "2. Each subject can have a different baseline reaction time compared to others, so we can have a random effect on the baseline reaction time for each individual"
   ]
  },
  {
   "cell_type": "code",
   "execution_count": 15,
   "id": "4749cffd-7103-410d-b79b-d1c9f90f2ea3",
   "metadata": {},
   "outputs": [],
   "source": [
    "# Set random seed for reproducibility\n",
    "np.random.seed(123)\n",
    "\n",
    "model = smf.mixedlm(\"Reaction ~ Days\", data, groups=data[\"Subject\"])\n"
   ]
  },
  {
   "cell_type": "code",
   "execution_count": 16,
   "id": "3e474ff2-6ee7-4b89-9671-cc236476dc19",
   "metadata": {},
   "outputs": [
    {
     "name": "stdout",
     "output_type": "stream",
     "text": [
      "         Mixed Linear Model Regression Results\n",
      "========================================================\n",
      "Model:             MixedLM Dependent Variable: Reaction \n",
      "No. Observations:  180     Method:             REML     \n",
      "No. Groups:        18      Scale:              960.4568 \n",
      "Min. group size:   10      Log-Likelihood:     -893.2325\n",
      "Max. group size:   10      Converged:          Yes      \n",
      "Mean group size:   10.0                                 \n",
      "--------------------------------------------------------\n",
      "           Coef.   Std.Err.   z    P>|z|  [0.025  0.975]\n",
      "--------------------------------------------------------\n",
      "Intercept  251.405    9.747 25.794 0.000 232.302 270.508\n",
      "Days        10.467    0.804 13.015 0.000   8.891  12.044\n",
      "Group Var 1378.176   17.156                             \n",
      "========================================================\n",
      "\n"
     ]
    }
   ],
   "source": [
    "# Fit the model\n",
    "fit = model.fit()\n",
    "\n",
    "# Output the summary of the model fit\n",
    "print(fit.summary())"
   ]
  },
  {
   "cell_type": "markdown",
   "id": "c31d2554-fe4d-41b6-b85f-ccd450ca0658",
   "metadata": {},
   "source": [
    "Coefficient values as below:\n",
    "\n",
    "1. Intercept = 251.405    \n",
    "2. Days  (Fixed Effect)  =   10.467  \n",
    "3. Group Var (Random effect) = 1378.176 "
   ]
  },
  {
   "cell_type": "markdown",
   "id": "c390cc67-9074-4d8c-92c0-47bd9d6b4929",
   "metadata": {},
   "source": [
    "## Model Evaluation"
   ]
  },
  {
   "cell_type": "code",
   "execution_count": 26,
   "id": "e7095f1a-e2c0-4452-a746-ee62f81c9efd",
   "metadata": {},
   "outputs": [
    {
     "name": "stdout",
     "output_type": "stream",
     "text": [
      "Root Mean Squared Error (RMSE): 47.448897509757494\n",
      "R-squared: 0.28647139510771014\n",
      "Mean Absolute Percentage Error (MAPE): 12.674582143277814\n",
      "Accuracy (within 10%): 53.89 %\n"
     ]
    }
   ],
   "source": [
    "\n",
    "# Predict values using the mixed-effects model\n",
    "predictions = fit.predict()  #\n",
    "\n",
    "# Actual values (observed)\n",
    "actual_values = data['Reaction']  \n",
    "\n",
    "# Calculate RMSE\n",
    "rmse = np.sqrt(np.mean((predictions - actual_values) ** 2))\n",
    "print(\"Root Mean Squared Error (RMSE):\", rmse)\n",
    "\n",
    "# Calculate R-squared\n",
    "ss_total = np.sum((actual_values - np.mean(actual_values)) ** 2)  # Total sum of squares\n",
    "ss_residual = np.sum((actual_values - predictions) ** 2)  # Residual sum of squares\n",
    "r_squared = 1 - (ss_residual / ss_total)\n",
    "print(\"R-squared:\", r_squared)\n",
    "\n",
    "# Calculate MAPE\n",
    "mape = np.mean(np.abs((actual_values - predictions) / actual_values)) * 100\n",
    "print(\"Mean Absolute Percentage Error (MAPE):\", mape)\n",
    "\n",
    "# Calculate accuracy (for regression, typically based on a threshold, e.g., ±10% error)\n",
    "accuracy = np.mean(np.abs((predictions - actual_values) / actual_values) < 0.1) * 100  # 10% threshold\n",
    "print(\"Accuracy (within 10%):\", round(accuracy,2), \"%\")\n"
   ]
  },
  {
   "cell_type": "markdown",
   "id": "54fa7389-35b7-4464-bf3e-b4c6c863af48",
   "metadata": {},
   "source": [
    "\n",
    "\n",
    "Above metrics are general evaluation metrics used for linear models.  \n",
    "These metrics values indicating out model is moderately good one. (Accuracy = 53.89% and MAPE is 12.6 %)\n",
    "\n",
    "As we are building fixed effect models its crucial to look at the models evaluation by cosidering the random effect components as well.\n",
    "Lets explore some of most common evaluation of Mixed effect models."
   ]
  },
  {
   "cell_type": "markdown",
   "id": "ae17c4af-5d0c-4818-9eb0-342e12496f16",
   "metadata": {},
   "source": [
    "**a. Coefficient Significance (P-values)**\n",
    "\n",
    "We can check the p-values of coefficients to see if they are significant or not.   \n",
    "In the summary both p-values are less than 0.05 **so both coefficients are significant.**"
   ]
  },
  {
   "cell_type": "markdown",
   "id": "0b1c6d9c-db59-43b9-a234-591200e0f1e0",
   "metadata": {},
   "source": [
    "**b. Confidence Intervals**"
   ]
  },
  {
   "cell_type": "markdown",
   "id": "13b79b06-e642-4908-9c03-d05f22773be2",
   "metadata": {},
   "source": [
    "Confidence intervals help us understand the precision of the fixed effects estimates."
   ]
  },
  {
   "cell_type": "code",
   "execution_count": 17,
   "id": "e1d2a3a9-ff05-4182-92cf-71b185bea42b",
   "metadata": {},
   "outputs": [
    {
     "data": {
      "text/html": [
       "<div>\n",
       "<style scoped>\n",
       "    .dataframe tbody tr th:only-of-type {\n",
       "        vertical-align: middle;\n",
       "    }\n",
       "\n",
       "    .dataframe tbody tr th {\n",
       "        vertical-align: top;\n",
       "    }\n",
       "\n",
       "    .dataframe thead th {\n",
       "        text-align: right;\n",
       "    }\n",
       "</style>\n",
       "<table border=\"1\" class=\"dataframe\">\n",
       "  <thead>\n",
       "    <tr style=\"text-align: right;\">\n",
       "      <th></th>\n",
       "      <th>0</th>\n",
       "      <th>1</th>\n",
       "    </tr>\n",
       "  </thead>\n",
       "  <tbody>\n",
       "    <tr>\n",
       "      <th>Intercept</th>\n",
       "      <td>232.301907</td>\n",
       "      <td>270.508303</td>\n",
       "    </tr>\n",
       "    <tr>\n",
       "      <th>Days</th>\n",
       "      <td>8.891041</td>\n",
       "      <td>12.043531</td>\n",
       "    </tr>\n",
       "    <tr>\n",
       "      <th>Group Var</th>\n",
       "      <td>0.349942</td>\n",
       "      <td>2.519892</td>\n",
       "    </tr>\n",
       "  </tbody>\n",
       "</table>\n",
       "</div>"
      ],
      "text/plain": [
       "                    0           1\n",
       "Intercept  232.301907  270.508303\n",
       "Days         8.891041   12.043531\n",
       "Group Var    0.349942    2.519892"
      ]
     },
     "execution_count": 17,
     "metadata": {},
     "output_type": "execute_result"
    }
   ],
   "source": [
    "fit.conf_int()"
   ]
  },
  {
   "cell_type": "markdown",
   "id": "ab976ee2-7eeb-4a23-9dd7-52052ad681f2",
   "metadata": {},
   "source": [
    "In general Narrower intervals indicate more precise estimates, while wider intervals suggest more uncertainty.  \n",
    "For both fixed and random coefficients we can see the values are narrower, so we can say the uncertainity is very less."
   ]
  },
  {
   "cell_type": "markdown",
   "id": "50d7ff66-a10f-498f-9e2c-c5886d7acdb5",
   "metadata": {},
   "source": [
    "**c. Intra-Class Correlation (ICC)**\n",
    "\n",
    "ICC measures the proportion of total variance that is attributable to the random effects (between-group variability). It tells you how much of the variation in the outcome (e.g., math score) is due to differences between groups (schools) rather than individual-level variability.\n",
    "\n",
    "The formula for ICC is:\n",
    "\n",
    "$$\n",
    "ICC = \\frac{\\sigma_{\\text{random}}^2}{\\sigma_{\\text{random}}^2 + \\sigma_{\\text{residual}}^2}\n",
    "$$\n",
    "\n",
    "Where:\n",
    "- $\\sigma_{\\text{random}}^2$ is the variance of the random effects (e.g., between schools),\n",
    "- $\\sigma_{\\text{residual}}^2$ is the residual (within-group) variance.\n"
   ]
  },
  {
   "cell_type": "code",
   "execution_count": 20,
   "id": "a38902da-11b5-41db-8cc6-a9606a7f997a",
   "metadata": {},
   "outputs": [
    {
     "name": "stdout",
     "output_type": "stream",
     "text": [
      "Intra-Class Correlation (ICC): 0.5893084022885959\n"
     ]
    }
   ],
   "source": [
    "# Extract the variance components\n",
    "random_effect_variance = fit.cov_re.iloc[0, 0]  # Group variance\n",
    "residual_variance = fit.scale  # Residual variance\n",
    "\n",
    "# Calculate ICC\n",
    "icc = random_effect_variance / (random_effect_variance + residual_variance)\n",
    "print(\"Intra-Class Correlation (ICC):\", icc)\n"
   ]
  },
  {
   "cell_type": "markdown",
   "id": "5320b23b-e5b4-409c-99b1-e311c7e08356",
   "metadata": {},
   "source": [
    "**ICC of 0.589 indicates moderate to good agreement among groups (Here, within individuals). This suggests that a significant portion of the total variance of reaction time is attributable to the grouping factor(individual random effect factor).**"
   ]
  },
  {
   "cell_type": "markdown",
   "id": "bd703188-c8a7-4d8f-85e0-afb4ab14e29f",
   "metadata": {},
   "source": [
    "**d. Likelihood Ratio Test (LRT)**"
   ]
  },
  {
   "cell_type": "markdown",
   "id": "f77afd4d-c208-4635-bf48-097f67f1cc1a",
   "metadata": {},
   "source": [
    "A likelihood ratio test is used to compare a mixed-effects model with simpler (nested) models. This can help determine if adding random effects significantly improves model fit.\n",
    "\n",
    "\n",
    "Null Hypothesis: The null hypothesis is that the simpler model (in our case, the OLS model without random effects) is adequate to explain the data."
   ]
  },
  {
   "cell_type": "code",
   "execution_count": 24,
   "id": "812bc201-77a4-456e-b456-8adbe9f504f0",
   "metadata": {},
   "outputs": [
    {
     "name": "stdout",
     "output_type": "stream",
     "text": [
      "LRT P-value: 0.0\n"
     ]
    }
   ],
   "source": [
    "from statsmodels.base.model import LikelihoodModelResults\n",
    "from scipy import stats\n",
    "\n",
    "# Fit a simpler model (without random effects)\n",
    "simpler_model = smf.ols(\"Reaction ~ Days\", data).fit()\n",
    "\n",
    "# Likelihood ratio test\n",
    "lr_stat = -2 * (simpler_model.llf - fit.llf)  # Compare log-likelihoods\n",
    "lr_p_value = 1 - stats.chi2.cdf(lr_stat, df=1)  # df=1, as we compare one additional random effect\n",
    "print(\"LRT P-value:\", lr_p_value)"
   ]
  },
  {
   "cell_type": "markdown",
   "id": "d97f19ba-0709-4831-9d44-ffa9c2d99b12",
   "metadata": {},
   "source": [
    "The P-Value is 0.0 which is lesss than 0.05, so we can reject null hypothesis and confirm that adding a random effect is helping."
   ]
  },
  {
   "cell_type": "markdown",
   "id": "605a8574-0c1c-4602-94d9-37ff0049340e",
   "metadata": {},
   "source": [
    "## Conclusion\n",
    "\n",
    "In this analysis, we employed a **fixed-effects model** to investigate the impact of sleep deprivation on reaction times in a longitudinal dataset, capturing changes over 10 days. This methodology is particularly well-suited for analyzing repeated measurements from the same subjects, as it effectively controls for unobserved heterogeneity.\n",
    "\n",
    "The fixed-effects modeling approach offers a robust framework for analyzing longitudinal data, particularly in behavioral studies like sleep deprivation. \n",
    "\n",
    "This analysis serves as a demonstration of the effectiveness of fixed-effects modeling in longitudinal studies and its evaluation techniques.\n"
   ]
  }
 ],
 "metadata": {
  "kernelspec": {
   "display_name": "Python 3 (ipykernel)",
   "language": "python",
   "name": "python3"
  },
  "language_info": {
   "codemirror_mode": {
    "name": "ipython",
    "version": 3
   },
   "file_extension": ".py",
   "mimetype": "text/x-python",
   "name": "python",
   "nbconvert_exporter": "python",
   "pygments_lexer": "ipython3",
   "version": "3.10.15"
  }
 },
 "nbformat": 4,
 "nbformat_minor": 5
}
