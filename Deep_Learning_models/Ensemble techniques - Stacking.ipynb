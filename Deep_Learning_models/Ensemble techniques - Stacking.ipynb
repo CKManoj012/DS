{
 "cells": [
  {
   "cell_type": "code",
   "execution_count": 5,
   "id": "b5e9c4a4-4785-4b8d-8e54-7b98122fbead",
   "metadata": {},
   "outputs": [],
   "source": [
    "import numpy as np\n",
    "import pandas as pd\n",
    "from sklearn.model_selection import train_test_split\n",
    "from sklearn.linear_model import LogisticRegression\n",
    "from sklearn.preprocessing import LabelEncoder\n",
    "from sklearn.ensemble import StackingClassifier\n",
    "from sklearn.metrics import accuracy_score\n",
    "from nltk.tokenize import word_tokenize\n",
    "from vaderSentiment.vaderSentiment import SentimentIntensityAnalyzer\n",
    "from keras.models import Sequential\n",
    "from keras.layers import Embedding, LSTM, Dense\n",
    "from keras.preprocessing.text import Tokenizer\n",
    "from keras.preprocessing.sequence import pad_sequences\n",
    "from sklearn.feature_extraction.text import TfidfVectorizer\n",
    "from sklearn.base import BaseEstimator, TransformerMixin\n",
    "\n"
   ]
  },
  {
   "cell_type": "code",
   "execution_count": 2,
   "id": "77215bd3-90bf-4dc1-aef4-69104ce5da84",
   "metadata": {},
   "outputs": [],
   "source": [
    "df = pd.read_csv(\"IMDB Dataset.csv\")\n",
    "\n",
    "df['sentiment'] = df['sentiment'].map({'positive': 1, 'negative': 0})  # Binary encoding for labels\n",
    "# Split data into training and testing\n",
    "X_train, X_test, y_train, y_test = train_test_split(\n",
    "    df['review'], df['sentiment'], test_size=0.2, random_state=42\n",
    ")"
   ]
  },
  {
   "cell_type": "code",
   "execution_count": 4,
   "id": "22886182-6922-4833-8425-54813e27752a",
   "metadata": {},
   "outputs": [],
   "source": [
    "max_words = 20000\n",
    "max_len = 300\n",
    "\n",
    "tokenizer = Tokenizer(num_words=max_words)\n",
    "tokenizer.fit_on_texts(X_train)\n",
    "\n",
    "X_train_seq = pad_sequences(tokenizer.texts_to_sequences(X_train),maxlen=max_len)\n",
    "X_test_seq = pad_sequences(tokenizer.texts_to_sequences(X_test),maxlen=max_len)"
   ]
  },
  {
   "cell_type": "code",
   "execution_count": 6,
   "id": "359fc0de-64c9-46be-9159-d5e0ad997147",
   "metadata": {},
   "outputs": [],
   "source": [
    "# Prepare TF-IDF features\n",
    "tfidf_vectorizer = TfidfVectorizer(max_features=20000)\n",
    "X_train_tfidf = tfidf_vectorizer.fit_transform(X_train)\n",
    "X_test_tfidf = tfidf_vectorizer.transform(X_test)"
   ]
  },
  {
   "cell_type": "code",
   "execution_count": null,
   "id": "576ec42c-d3ac-491c-ada0-05d044800739",
   "metadata": {},
   "outputs": [],
   "source": [
    "from sklearn.svm import SVC\n",
    "\n",
    "# Train an SVM classifier\n",
    "svm_model = SVC(probability=True)  # Use probability=True for stacking\n",
    "svm_model.fit(X_train_tfidf, y_train)"
   ]
  },
  {
   "cell_type": "code",
   "execution_count": null,
   "id": "dd74af9b-10da-46b5-85ae-055b1a4e4601",
   "metadata": {},
   "outputs": [],
   "source": [
    "from sklearn.ensemble import RandomForestClassifier\n",
    "\n",
    "# Train a Random Forest classifier\n",
    "rf_model = RandomForestClassifier(n_estimators=100, random_state=42)\n",
    "rf_model.fit(X_train_tfidf, y_train)"
   ]
  },
  {
   "cell_type": "code",
   "execution_count": null,
   "id": "5e30af03-9619-4c37-b8df-9b7e2d6de198",
   "metadata": {},
   "outputs": [],
   "source": [
    "## Training LSTMs\n",
    "\n",
    "embedding_dim = 50\n",
    "\n",
    "# Build LSTM Model\n",
    "\n",
    "lstm_model = Sequential([\n",
    "    Embedding(input_dim=max_words,output_dim=embedding_dim,input_length=max_len),\n",
    "    LSTM(128,dropout=0.2,recurrent_dropout=0.2),\n",
    "    Dense(1,activation='sigmoid')\n",
    "])\n",
    "\n",
    "lstm_model.compile(optimizer='adam',loss='binary_crossentropy',metrics=['accuracy']\n",
    "lstm_model.fit(X_train_seq,y_train,epochs=3,batch_size=64,verbose=1)\n"
   ]
  },
  {
   "cell_type": "code",
   "execution_count": null,
   "id": "61346d8b-9306-4bca-ab85-4784d5f1eb9f",
   "metadata": {},
   "outputs": [],
   "source": [
    "## Wrapper for LSTM Prediction\n",
    "\n",
    "class LSTMWrapper(BaseEstimator,TransformerMixin):\n",
    "    def fit(self,x,y):\n",
    "        return self\n",
    "    def transform(self,x):\n",
    "        x_seq = pad_sequences(tokenizer.texts_to_sequences(X),maxlen=max_len)\n",
    "        return lstm_model.predict(x_seq)"
   ]
  },
  {
   "cell_type": "code",
   "execution_count": null,
   "id": "784783f2-75cc-4091-a53d-eda864aa9f9e",
   "metadata": {},
   "outputs": [],
   "source": [
    "from sklearn.ensemble import StackingClassifier\n",
    "from sklearn.base import BaseEstimator, TransformerMixin\n",
    "from sklearn.metrics import accuracy_score\n",
    "\n",
    "# Wrapper for LSTM predictions\n",
    "class LSTMWrapper(BaseEstimator, TransformerMixin):\n",
    "    def fit(self, X, y):\n",
    "        return self\n",
    "    def transform(self, X):\n",
    "        X_seq = pad_sequences(tokenizer.texts_to_sequences(X), maxlen=max_len)\n",
    "        return lstm_model.predict(X_seq)\n",
    "\n",
    "# Combine models in StackingClassifier\n",
    "stacked_model = StackingClassifier(\n",
    "    estimators=[\n",
    "        ('log_reg', LogisticRegression().fit(X_train_bow, y_train)), \n",
    "        ('svm', svm_model),\n",
    "        ('rf', rf_model),\n",
    "        ('lstm', LSTMWrapper())\n",
    "    ],\n",
    "    final_estimator=LogisticRegression()\n",
    ")\n",
    "\n",
    "# Train StackingClassifier\n",
    "stacked_model.fit(X_train, y_train)\n",
    "\n",
    "# Evaluate\n",
    "y_pred = stacked_model.predict(X_test)\n",
    "print(\"Ensemble Accuracy:\", accuracy_score(y_test, y_pred))\n"
   ]
  },
  {
   "cell_type": "code",
   "execution_count": null,
   "id": "4317cb28-da68-4e74-aa47-3dfbc0b2fcc9",
   "metadata": {},
   "outputs": [],
   "source": [
    "from sklearn.metrics import classification_report\n",
    "\n",
    "# Evaluate individual models\n",
    "log_reg_pred = log_reg.predict(X_test_bow)\n",
    "svm_pred = svm_model.predict(X_test_tfidf)\n",
    "rf_pred = rf_model.predict(X_test_tfidf)\n",
    "lstm_pred = (lstm_model.predict(X_test_seq) > 0.5).astype(int)\n",
    "\n",
    "print(\"Logistic Regression Report:\")\n",
    "print(classification_report(y_test, log_reg_pred))\n",
    "\n",
    "print(\"SVM Report:\")\n",
    "print(classification_report(y_test, svm_pred))\n",
    "\n",
    "print(\"Random Forest Report:\")\n",
    "print(classification_report(y_test, rf_pred))\n",
    "\n",
    "print(\"LSTM Report:\")\n",
    "print(classification_report(y_test, lstm_pred))\n",
    "\n",
    "print(\"Stacking Ensemble Report:\")\n",
    "print(classification_report(y_test, y_pred))\n"
   ]
  },
  {
   "cell_type": "code",
   "execution_count": null,
   "id": "c87517fe-184b-4885-a45a-a5c714b4a16a",
   "metadata": {},
   "outputs": [],
   "source": []
  },
  {
   "cell_type": "code",
   "execution_count": null,
   "id": "dd366024-0c5e-4020-a656-7c540b178ed9",
   "metadata": {},
   "outputs": [],
   "source": []
  }
 ],
 "metadata": {
  "kernelspec": {
   "display_name": "Python 3 (ipykernel)",
   "language": "python",
   "name": "python3"
  },
  "language_info": {
   "codemirror_mode": {
    "name": "ipython",
    "version": 3
   },
   "file_extension": ".py",
   "mimetype": "text/x-python",
   "name": "python",
   "nbconvert_exporter": "python",
   "pygments_lexer": "ipython3",
   "version": "3.10.15"
  }
 },
 "nbformat": 4,
 "nbformat_minor": 5
}
