{
 "cells": [
  {
   "cell_type": "code",
   "execution_count": 23,
   "id": "6499dda1-8b81-4b89-8fc2-89a14583737c",
   "metadata": {},
   "outputs": [],
   "source": [
    "import openai"
   ]
  },
  {
   "cell_type": "code",
   "execution_count": 3,
   "id": "1e553555-a658-4684-87ac-48ff6d7dcc26",
   "metadata": {},
   "outputs": [],
   "source": [
    "# Set your OpenAI API key\n",
    "client = OpenAI()"
   ]
  },
  {
   "cell_type": "code",
   "execution_count": 8,
   "id": "a5b9d0df-e5a6-47e4-b502-685269ad4eba",
   "metadata": {},
   "outputs": [],
   "source": [
    "def get_sentiment(reviews):\n",
    "    \"\"\"\n",
    "    Takes a list of reviews and returns their sentiments as Positive or Negative using ChatCompletion.\n",
    "    \"\"\"\n",
    "    results = []\n",
    "    for review in reviews:\n",
    "        # Framing the prompt for a one-word output\n",
    "        messages = [\n",
    "            {\n",
    "                \"role\": \"system\",\n",
    "                \"content\": \"You are a sentiment analysis assistant. Only reply with one word: Positive or Negative.\"\n",
    "            },\n",
    "            {\n",
    "                \"role\": \"user\",\n",
    "                \"content\": f\"Analyze the sentiment of this review: '{review}'\"\n",
    "            }\n",
    "        ]\n",
    "        try:\n",
    "            response = client.chat.completions.create(\n",
    "                model=\"gpt-4o-mini\",  # Use the GPT model you prefer\n",
    "                messages=messages,\n",
    "                max_tokens=1,  # Limit output to one word\n",
    "                temperature=0.0  # Make responses deterministic\n",
    "            )\n",
    "            sentiment = response.choices[0].message[\"content\"].strip()\n",
    "            results.append(sentiment)\n",
    "        except Exception as e:\n",
    "            results.append(f\"Error: {str(e)}\")\n",
    "    return results\n"
   ]
  },
  {
   "cell_type": "code",
   "execution_count": 9,
   "id": "d791cbf4-3192-4a67-a39a-08cc82add4cb",
   "metadata": {},
   "outputs": [],
   "source": [
    "## Validation and testing\n",
    "\n",
    "\n",
    "\n",
    "# new_review_raw = [\n",
    "# \"Wow, this movie was just what I needed to cure my insomnia. Absolutely thrilling!\",\n",
    "# \"Best movie ever! I loved wasting 3 hours of my life on this masterpiece.\",\n",
    "# \"Oh sure, the acting was so 'natural' I almost believed the actors were wooden dolls.\",\n",
    "# \"Definitely recommend this movie... if you want to bore yourself to death.\",\n",
    "# \"The movie was about two friends who embark on a journey. It has a runtime of two hours.\",\n",
    "# \"It is a typical superhero movie with action scenes and some emotional moments.\",\n",
    "# \"The cinematography was colorful, and the soundtrack was loud.\",\n",
    "# \"The second half of the movie was longer than the first.\",\n",
    "# \"It was okay, I guess, but I wouldn’t watch it again.\",\n",
    "# \"Not bad, but not great either.\",\n",
    "# \"I laughed, I cried, but I still don’t know if I liked it or not.\",\n",
    "# \"The second half was much better than the first, though the ending was questionable.\",\n",
    "# \"It was very good, super, fantastic.\",\n",
    "# \"It was good until the second half \",\n",
    "# \"It was second half \",\n",
    "# \"Second half was good \",\n",
    "# \"Movie is amazing, especially in the Second half\",\n",
    "# \"Terrible movie, Second half was hilarious\",\n",
    "# \"It was okay, the Second half was hilarious\",\n",
    "# \"Best movie if you are looking for a headache\",\n",
    "# \"Lots of fun\"\n",
    "\n",
    "# ]\n",
    "\n",
    "new_review_raw = [\n",
    "\"Wow, this movie was just what I needed to cure my insomnia. Absolutely thrilling!\"\n",
    "\n",
    "]"
   ]
  },
  {
   "cell_type": "code",
   "execution_count": 10,
   "id": "26cb7026-e6ed-4b9e-b583-25bf3dda6188",
   "metadata": {},
   "outputs": [],
   "source": [
    "# from openai import OpenAI\n",
    "# client = OpenAI()\n",
    "\n",
    "# completion = client.chat.completions.create(\n",
    "#     model=\"gpt-4o-mini\",\n",
    "#     messages=[\n",
    "#         {\"role\": \"system\", \"content\": \"You are a helpful assistant.\"},\n",
    "#         {\n",
    "#             \"role\": \"user\",\n",
    "#             \"content\": \"Write a haiku about recursion in programming.\"\n",
    "#         }\n",
    "#     ]\n",
    "# )\n",
    "\n",
    "# print(completion.choices[0].message)"
   ]
  },
  {
   "cell_type": "code",
   "execution_count": 11,
   "id": "5722b19b-fa8d-40b2-9577-8a2b9d839623",
   "metadata": {},
   "outputs": [],
   "source": [
    "sentiments = get_sentiment(new_review_raw)"
   ]
  },
  {
   "cell_type": "code",
   "execution_count": 12,
   "id": "ed67a90a-f469-4a57-8fb1-ee8e59331738",
   "metadata": {},
   "outputs": [
    {
     "name": "stdout",
     "output_type": "stream",
     "text": [
      "Review: Wow, this movie was just what I needed to cure my insomnia. Absolutely thrilling! -> Sentiment: Error: Error code: 429 - {'error': {'message': 'You exceeded your current quota, please check your plan and billing details. For more information on this error, read the docs: https://platform.openai.com/docs/guides/error-codes/api-errors.', 'type': 'insufficient_quota', 'param': None, 'code': 'insufficient_quota'}}\n"
     ]
    }
   ],
   "source": [
    "# Print results\n",
    "for review, sentiment in zip(new_review_raw, sentiments):\n",
    "    print(f\"Review: {review} -> Sentiment: {sentiment}\")"
   ]
  },
  {
   "cell_type": "code",
   "execution_count": null,
   "id": "7a53ef49-68fa-4907-ad09-6116c87ac1cd",
   "metadata": {},
   "outputs": [],
   "source": []
  },
  {
   "cell_type": "code",
   "execution_count": null,
   "id": "eb9f586b-2902-447f-8a24-b4c8a66ad38c",
   "metadata": {},
   "outputs": [],
   "source": []
  },
  {
   "cell_type": "code",
   "execution_count": null,
   "id": "15c6fae5-6c9e-4fee-bdd7-cabdf0073617",
   "metadata": {},
   "outputs": [],
   "source": []
  },
  {
   "cell_type": "code",
   "execution_count": null,
   "id": "6c74237c-5c21-49a3-be3b-547c6853c350",
   "metadata": {},
   "outputs": [],
   "source": []
  },
  {
   "cell_type": "code",
   "execution_count": null,
   "id": "28847b74-c172-480a-b9e9-4be830d5bd48",
   "metadata": {},
   "outputs": [],
   "source": []
  },
  {
   "cell_type": "code",
   "execution_count": null,
   "id": "797bdf33-3ef8-4e74-9388-c532cf8abc1d",
   "metadata": {},
   "outputs": [],
   "source": []
  },
  {
   "cell_type": "code",
   "execution_count": null,
   "id": "508e6692-7a9f-4ca5-9a9d-155c7a4c8d66",
   "metadata": {},
   "outputs": [],
   "source": []
  },
  {
   "cell_type": "code",
   "execution_count": null,
   "id": "cd7281e1-4f71-4dbc-bcd6-b15c6528f697",
   "metadata": {},
   "outputs": [],
   "source": []
  },
  {
   "cell_type": "code",
   "execution_count": null,
   "id": "d8dd83d6-b417-45dd-81aa-48f0ca7b06c0",
   "metadata": {},
   "outputs": [],
   "source": []
  },
  {
   "cell_type": "code",
   "execution_count": null,
   "id": "87711605-70fa-492b-8111-36aa5d124358",
   "metadata": {},
   "outputs": [],
   "source": []
  },
  {
   "cell_type": "code",
   "execution_count": null,
   "id": "37897c40-a0fe-4c5b-b9c2-228bd100b6b8",
   "metadata": {},
   "outputs": [],
   "source": []
  },
  {
   "cell_type": "code",
   "execution_count": null,
   "id": "3e86e2ee-8565-4329-b40b-3dc1ded71492",
   "metadata": {},
   "outputs": [],
   "source": []
  },
  {
   "cell_type": "code",
   "execution_count": null,
   "id": "b7eb51a9-a7b5-403d-ace0-559e06c95eaf",
   "metadata": {},
   "outputs": [],
   "source": []
  },
  {
   "cell_type": "code",
   "execution_count": null,
   "id": "f4de1997-b21a-48f2-bc66-b8fade645940",
   "metadata": {},
   "outputs": [],
   "source": []
  },
  {
   "cell_type": "code",
   "execution_count": null,
   "id": "034f6567-25d7-44a8-9b8f-3b8ca8ce8444",
   "metadata": {},
   "outputs": [],
   "source": []
  },
  {
   "cell_type": "code",
   "execution_count": null,
   "id": "2ee76cb4-2fc2-4571-aad3-91053d32cf54",
   "metadata": {},
   "outputs": [],
   "source": []
  },
  {
   "cell_type": "code",
   "execution_count": null,
   "id": "c5e087cf-070d-4ec5-b430-aed35c28d921",
   "metadata": {},
   "outputs": [],
   "source": []
  },
  {
   "cell_type": "code",
   "execution_count": null,
   "id": "1f4fed8e-af5f-436c-873e-6220745bef4e",
   "metadata": {},
   "outputs": [],
   "source": []
  },
  {
   "cell_type": "code",
   "execution_count": null,
   "id": "382d82de-e625-4743-bb24-025d882bd9c1",
   "metadata": {},
   "outputs": [],
   "source": []
  },
  {
   "cell_type": "code",
   "execution_count": null,
   "id": "4333a79d-d52e-4dfd-ac00-6bcba823c1bc",
   "metadata": {},
   "outputs": [],
   "source": []
  },
  {
   "cell_type": "code",
   "execution_count": null,
   "id": "691dde88-f83d-4c1b-831c-c2d0c846b80c",
   "metadata": {},
   "outputs": [],
   "source": []
  },
  {
   "cell_type": "code",
   "execution_count": null,
   "id": "8ebbfac1-bda9-4278-81c8-0a6a9362c9be",
   "metadata": {},
   "outputs": [],
   "source": []
  },
  {
   "cell_type": "code",
   "execution_count": null,
   "id": "0d46d09b-8fc3-40b2-9924-8d565c5db123",
   "metadata": {},
   "outputs": [],
   "source": []
  },
  {
   "cell_type": "code",
   "execution_count": null,
   "id": "59502963-b8a3-44d5-b260-f7988fafb19b",
   "metadata": {},
   "outputs": [],
   "source": []
  }
 ],
 "metadata": {
  "kernelspec": {
   "display_name": "Python 3 (ipykernel)",
   "language": "python",
   "name": "python3"
  },
  "language_info": {
   "codemirror_mode": {
    "name": "ipython",
    "version": 3
   },
   "file_extension": ".py",
   "mimetype": "text/x-python",
   "name": "python",
   "nbconvert_exporter": "python",
   "pygments_lexer": "ipython3",
   "version": "3.10.15"
  }
 },
 "nbformat": 4,
 "nbformat_minor": 5
}
