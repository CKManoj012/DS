{
 "cells": [
  {
   "cell_type": "code",
   "execution_count": 4,
   "id": "30c4df1d-1e35-4633-a2ee-ae1318c22dc9",
   "metadata": {},
   "outputs": [],
   "source": [
    "from vaderSentiment.vaderSentiment import SentimentIntensityAnalyzer\n",
    "import pandas as pd\n",
    "import numpy as np\n",
    "import warnings\n",
    "warnings.filterwarnings(\"ignore\")\n",
    "pd.set_option('display.max_colwidth', None)  # No truncation for column values\n",
    "pd.set_option('display.float_format', '{:.6f}'.format)\n"
   ]
  },
  {
   "cell_type": "code",
   "execution_count": 8,
   "id": "507cac67-749a-4607-9d2c-a646d867371e",
   "metadata": {},
   "outputs": [],
   "source": [
    "\n",
    "\n",
    "new_review_raw = [\n",
    "\"Wow, this movie was just what I needed to cure my insomnia. Absolutely thrilling!\",\n",
    "\"Best movie ever! I loved wasting 3 hours of my life on this masterpiece.\",\n",
    "\"Oh sure, the acting was so 'natural' I almost believed the actors were wooden dolls.\",\n",
    "\"Definitely recommend this movie... if you want to bore yourself to death.\",\n",
    "\"The movie was about two friends who embark on a journey. It has a runtime of two hours.\",\n",
    "\"It is a typical superhero movie with action scenes and some emotional moments.\",\n",
    "\"The cinematography was colorful, and the soundtrack was loud.\",\n",
    "\"The second half of the movie was longer than the first.\",\n",
    "\"It was okay, I guess, but I wouldn’t watch it again.\",\n",
    "\"Not bad, but not great either.\",\n",
    "\"I laughed, I cried, but I still don’t know if I liked it or not.\",\n",
    "\"The second half was much better than the first, though the ending was questionable.\",\n",
    "\"It was very good, super, fantastic.\",\n",
    "\"It was good until the second half \",\n",
    "\"It was second half \",\n",
    "\"Second half was good \",\n",
    "\"Movie is amazing, especially in the Second half\",\n",
    "\"Terrible movie, Second half was hilarious\",\n",
    "\"It was okay, Second half was hilarious\",\n",
    "\"Best movie if you are looking for a headache\",\n",
    "\"Lots of fun\"\n",
    "\n",
    "]"
   ]
  },
  {
   "cell_type": "code",
   "execution_count": 6,
   "id": "d1bc517e-a9b9-423e-b02d-196773b678d3",
   "metadata": {},
   "outputs": [],
   "source": [
    "# Initialize VADER sentiment analyzer\n",
    "analyzer = SentimentIntensityAnalyzer()\n"
   ]
  },
  {
   "cell_type": "code",
   "execution_count": 9,
   "id": "87e8798c-8cd4-4fdc-af2f-5ae09016dd6f",
   "metadata": {
    "scrolled": true
   },
   "outputs": [
    {
     "name": "stdout",
     "output_type": "stream",
     "text": [
      "Sentence: Wow, this movie was just what I needed to cure my insomnia. Absolutely thrilling!\n",
      "Sentiment: {'neg': 0.0, 'neu': 0.616, 'pos': 0.384, 'compound': 0.8169}\n",
      "Sentence: Best movie ever! I loved wasting 3 hours of my life on this masterpiece.\n",
      "Sentiment: {'neg': 0.104, 'neu': 0.385, 'pos': 0.511, 'compound': 0.9112}\n",
      "Sentence: Oh sure, the acting was so 'natural' I almost believed the actors were wooden dolls.\n",
      "Sentiment: {'neg': 0.0, 'neu': 0.701, 'pos': 0.299, 'compound': 0.6748}\n",
      "Sentence: Definitely recommend this movie... if you want to bore yourself to death.\n",
      "Sentiment: {'neg': 0.304, 'neu': 0.361, 'pos': 0.335, 'compound': -0.1027}\n",
      "Sentence: The movie was about two friends who embark on a journey. It has a runtime of two hours.\n",
      "Sentiment: {'neg': 0.0, 'neu': 0.846, 'pos': 0.154, 'compound': 0.4767}\n",
      "Sentence: It is a typical superhero movie with action scenes and some emotional moments.\n",
      "Sentiment: {'neg': 0.0, 'neu': 0.882, 'pos': 0.118, 'compound': 0.1531}\n",
      "Sentence: The cinematography was colorful, and the soundtrack was loud.\n",
      "Sentiment: {'neg': 0.0, 'neu': 1.0, 'pos': 0.0, 'compound': 0.0}\n",
      "Sentence: The second half of the movie was longer than the first.\n",
      "Sentiment: {'neg': 0.0, 'neu': 1.0, 'pos': 0.0, 'compound': 0.0}\n",
      "Sentence: It was okay, I guess, but I wouldn’t watch it again.\n",
      "Sentiment: {'neg': 0.0, 'neu': 0.873, 'pos': 0.127, 'compound': 0.1154}\n",
      "Sentence: Not bad, but not great either.\n",
      "Sentiment: {'neg': 0.428, 'neu': 0.386, 'pos': 0.186, 'compound': -0.5448}\n",
      "Sentence: I laughed, I cried, but I still don’t know if I liked it or not.\n",
      "Sentiment: {'neg': 0.092, 'neu': 0.615, 'pos': 0.292, 'compound': 0.5994}\n",
      "Sentence: The second half was much better than the first, though the ending was questionable.\n",
      "Sentiment: {'neg': 0.129, 'neu': 0.702, 'pos': 0.17, 'compound': 0.1779}\n",
      "Sentence: It was very good, super, fantastic.\n",
      "Sentiment: {'neg': 0.0, 'neu': 0.211, 'pos': 0.789, 'compound': 0.9049}\n",
      "Sentence: It was good until the second half \n",
      "Sentiment: {'neg': 0.0, 'neu': 0.674, 'pos': 0.326, 'compound': 0.4404}\n",
      "Sentence: It was second half \n",
      "Sentiment: {'neg': 0.0, 'neu': 1.0, 'pos': 0.0, 'compound': 0.0}\n",
      "Sentence: Second half was good \n",
      "Sentiment: {'neg': 0.0, 'neu': 0.508, 'pos': 0.492, 'compound': 0.4404}\n",
      "Sentence: Movie is amazing, especially in the Second half\n",
      "Sentiment: {'neg': 0.0, 'neu': 0.648, 'pos': 0.352, 'compound': 0.5859}\n",
      "Sentence: Terrible movie, Second half was hilarious\n",
      "Sentiment: {'neg': 0.316, 'neu': 0.408, 'pos': 0.276, 'compound': -0.1027}\n",
      "Sentence: It was okay, Second half was hilarious\n",
      "Sentiment: {'neg': 0.0, 'neu': 0.521, 'pos': 0.479, 'compound': 0.5574}\n",
      "Sentence: Best movie if you are looking for a headache\n",
      "Sentiment: {'neg': 0.0, 'neu': 0.656, 'pos': 0.344, 'compound': 0.6369}\n",
      "Sentence: Lots of fun\n",
      "Sentiment: {'neg': 0.0, 'neu': 0.377, 'pos': 0.623, 'compound': 0.5106}\n"
     ]
    }
   ],
   "source": [
    "# Analyze sentiment\n",
    "for sentence in new_review_raw:\n",
    "    sentiment = analyzer.polarity_scores(sentence)\n",
    "    print(f\"Sentence: {sentence}\")\n",
    "    print(f\"Sentiment: {sentiment}\")"
   ]
  },
  {
   "cell_type": "code",
   "execution_count": null,
   "id": "bc7afc0a-0b6e-49ac-ae53-4072c31b8ce6",
   "metadata": {},
   "outputs": [],
   "source": []
  }
 ],
 "metadata": {
  "kernelspec": {
   "display_name": "Python 3 (ipykernel)",
   "language": "python",
   "name": "python3"
  },
  "language_info": {
   "codemirror_mode": {
    "name": "ipython",
    "version": 3
   },
   "file_extension": ".py",
   "mimetype": "text/x-python",
   "name": "python",
   "nbconvert_exporter": "python",
   "pygments_lexer": "ipython3",
   "version": "3.10.15"
  }
 },
 "nbformat": 4,
 "nbformat_minor": 5
}
