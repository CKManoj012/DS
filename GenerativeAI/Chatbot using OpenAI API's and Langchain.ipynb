{
 "cells": [
  {
   "cell_type": "markdown",
   "id": "07ce719b-59f3-4021-876a-168d48362b84",
   "metadata": {},
   "source": [
    "# Project: Conversational AI Chatbot\n",
    "\n",
    "Description:\n",
    "Developed an advanced conversational chatbot for a customer service application using OpenAI APIs and LangChain.\n",
    "\n",
    "Features:\n",
    "1. Integrated memory for personalized responses.\n",
    "2. Leveraged LangChain for document-based question answering.\n",
    "3. Connected the bot to a vector database (Pinecone) for semantic search across support documents.\n",
    "\n",
    "\n",
    "\n"
   ]
  },
  {
   "cell_type": "code",
   "execution_count": 4,
   "id": "d3d155ee-373f-420a-ac80-8b8620494d5f",
   "metadata": {},
   "outputs": [],
   "source": [
    "# !pip install langchain_community"
   ]
  },
  {
   "cell_type": "code",
   "execution_count": 33,
   "id": "b48d9601-3d1e-4057-8582-9b3abde138b0",
   "metadata": {},
   "outputs": [],
   "source": [
    "import os\n",
    "from langchain import vectorstores\n",
    "from langchain.embeddings.openai import OpenAIEmbeddings\n",
    "from langchain.chains import ConversationalRetrievalChain\n",
    "from langchain.chat_models import ChatOpenAI\n",
    "from langchain.memory import ConversationBufferMemory\n",
    "from langchain.schema import Document\n",
    "from pinecone import Pinecone, ServerlessSpec,Index\n"
   ]
  },
  {
   "cell_type": "code",
   "execution_count": 17,
   "id": "e7ffb1be-9d34-4aa3-ad6a-375cff7f8739",
   "metadata": {},
   "outputs": [],
   "source": [
    "# Initialize OpenAI API Key\n",
    "openai_api_key = os.getenv(\"OPENAI_API_KEY\") \n",
    "\n",
    "# Initialize Pinecone API Key and Environment\n",
    "pinecone_api_key = os.getenv(\"PINECONE_API_KEY\") \n",
    "pinecone_env = \"us-east1-gcp\"  "
   ]
  },
  {
   "cell_type": "code",
   "execution_count": 21,
   "id": "7e0758af-17fc-4a88-927b-e90bd7cd9bc8",
   "metadata": {},
   "outputs": [],
   "source": [
    "# Initialize Pinecone Client\n",
    "pinecone_client = Pinecone(api_key=pinecone_api_key)\n",
    "\n",
    "# Create Pinecone Index if it doesn't exist\n",
    "index_name = \"chatbot-support-docs\"\n",
    "if index_name not in [idx.name for idx in pinecone_client.list_indexes()]:\n",
    "    pinecone_client.create_index(\n",
    "        name=index_name,\n",
    "        dimension=1536,  # OpenAI embeddings dimension\n",
    "        metric=\"cosine\",\n",
    "        spec=ServerlessSpec(cloud=\"aws\",region=\"us-east-1\"),\n",
    "    )\n",
    "             \n"
   ]
  },
  {
   "cell_type": "code",
   "execution_count": 25,
   "id": "a24a3e62-c71f-4572-aea5-9361bcafba2b",
   "metadata": {},
   "outputs": [],
   "source": [
    "# Retrieve index host\n",
    "index_description = pinecone_client.describe_index(index_name)\n",
    "host = index_description.host"
   ]
  },
  {
   "cell_type": "code",
   "execution_count": 26,
   "id": "5edc2003-26a5-431c-a5ce-d2640fc87501",
   "metadata": {},
   "outputs": [],
   "source": [
    "# Connect to the Pinecone Index\n",
    "index = Index(index_name, host=host)"
   ]
  },
  {
   "cell_type": "code",
   "execution_count": 27,
   "id": "2cf36ba7-b43a-4b31-80ea-13f1045df554",
   "metadata": {},
   "outputs": [],
   "source": [
    "# Initialize OpenAI Embeddings\n",
    "embeddings = OpenAIEmbeddings(openai_api_key=openai_api_key)\n"
   ]
  },
  {
   "cell_type": "code",
   "execution_count": 44,
   "id": "d426f803-32d3-43c1-8ecd-6b5e88f395f0",
   "metadata": {},
   "outputs": [],
   "source": [
    "documents = [\n",
    "    {\"page_content\": \"Terrain Trait is a company started in the year 2089 by JJ Kiddo. JJ Kiddo was a lawyer working in Mar's BleevFlemin.\"},\n",
    "    {\"page_content\": \"Terrain Trait provides transportation support from Earth to Moon, Mars, and even for some cities in Andromeda.\"},\n",
    "    {\"page_content\":  \"Terrain Trait's wormhole technology was once sued for an alleged mafia case.\"},\n",
    "    {\"page_content\": \"Junior Juma Kiddo was a national-level chess player in Mandeep, Andromeda.\"},\n",
    "    {\"page_content\": \"Terrain Trait generated revenue of USD 560 Million in the last month by its Telecommunication division which provides communication services between different planets.\"},\n",
    "    {\"page_content\": '''Places where transportation is offered: \n",
    "                            Milkyway : { Moon : [Bisle, Bubule, Nuansilei, PortBharat, Multh, Jadeo],\n",
    "                                            Mars : [Rappos Valley, Kirkush, Meyo Prag, Jujunsi],\n",
    "                                            Bhoo-Anuja : [Monday, Keirsha, Quio-Pex, Zalavali],\n",
    "                                            Milio-Bubi : [Mubonada, Nulicanosi, Xiopi Kuashas]\n",
    "                                            },\n",
    "                            Andromeda : [Lata Nu, Kirlop, Prbhatijanu, Zua Liquor] \n",
    "    '''},\n",
    "    {\"page_content\": \"Meo Smiti was founded in 2066 by RC Pratishta.\"},\n",
    "    {\"page_content\":\" Meo Smiti is an MNC company that sells Arts and Artifacts.\"},\n",
    "    {\"page_content\": \"RC Pratishta's full name is Rhu Chandra Pratishta.\"}\n",
    "]"
   ]
  },
  {
   "cell_type": "code",
   "execution_count": 45,
   "id": "10474338-4529-421d-b123-fb0c8a0e93ed",
   "metadata": {},
   "outputs": [
    {
     "name": "stderr",
     "output_type": "stream",
     "text": [
      "C:\\Users\\Manoj\\anaconda3\\envs\\port\\lib\\site-packages\\langchain_community\\vectorstores\\pinecone.py:68: UserWarning: Passing in `embedding` as a Callable is deprecated. Please pass in an Embeddings object instead.\n",
      "  warnings.warn(\n"
     ]
    },
    {
     "data": {
      "text/plain": [
       "['2405c822-798f-4f76-939f-890f5675d7f6',\n",
       " 'eea4ccf2-5f4a-46e9-9de4-ba78f2dcabe5',\n",
       " '79f35086-0c1b-483b-a606-10f0d9116f9b',\n",
       " 'a54d41a2-38b4-43e5-9e22-35db4579dd88',\n",
       " 'a9daa46b-a408-4efd-8e92-9539f294e114',\n",
       " '39ffa4b6-c18d-49c6-97fc-e7a548550703',\n",
       " '338baa2e-d011-4611-9d40-d2f7a78dbf07',\n",
       " '297b704d-6dfc-4612-a449-8269b0c88bf6',\n",
       " 'aff2b882-01a6-4a5f-8b58-3ca4bea5eff5']"
      ]
     },
     "execution_count": 45,
     "metadata": {},
     "output_type": "execute_result"
    }
   ],
   "source": [
    "vector_store = vectorstores.Pinecone.from_existing_index(\n",
    "    index_name=index_name,\n",
    "    embedding=embeddings.embed_query\n",
    ")\n",
    "\n",
    "vector_store.add_texts([doc[\"page_content\"] for doc in documents])\n"
   ]
  },
  {
   "cell_type": "code",
   "execution_count": 36,
   "id": "ee33058e-ff4e-444f-8c44-76b55d1cd734",
   "metadata": {},
   "outputs": [
    {
     "name": "stderr",
     "output_type": "stream",
     "text": [
      "C:\\Users\\Manoj\\AppData\\Local\\Temp\\ipykernel_25696\\3279284431.py:2: LangChainDeprecationWarning: Please see the migration guide at: https://python.langchain.com/docs/versions/migrating_memory/\n",
      "  memory = ConversationBufferMemory(memory_key=\"chat_history\", return_messages=True)\n"
     ]
    }
   ],
   "source": [
    "# Initialize memory\n",
    "memory = ConversationBufferMemory(memory_key=\"chat_history\", return_messages=True)\n"
   ]
  },
  {
   "cell_type": "code",
   "execution_count": 46,
   "id": "2960fd27-a48c-48bf-88c4-d8f851dbbfbc",
   "metadata": {},
   "outputs": [],
   "source": [
    "# Build conversational retrieval chain\n",
    "chat_model = ChatOpenAI(model=\"gpt-4\", openai_api_key=openai_api_key)\n",
    "retrieval_chain = ConversationalRetrievalChain.from_llm(\n",
    "    llm=chat_model,\n",
    "    retriever=vector_store.as_retriever(),\n",
    "    memory=memory\n",
    ")"
   ]
  },
  {
   "cell_type": "code",
   "execution_count": 41,
   "id": "3caebbf4-e659-4b83-a815-af34e21753ca",
   "metadata": {},
   "outputs": [],
   "source": [
    "response = retrieval_chain.run(\"Hi\")\n"
   ]
  },
  {
   "cell_type": "code",
   "execution_count": 42,
   "id": "d86854f4-1bc4-4779-b00d-c065dba66cd0",
   "metadata": {},
   "outputs": [
    {
     "data": {
      "text/plain": [
       "\"As an AI, I'm here to assist you. Could you please specify your question or the type of assistance you need?\""
      ]
     },
     "execution_count": 42,
     "metadata": {},
     "output_type": "execute_result"
    }
   ],
   "source": [
    "response"
   ]
  },
  {
   "cell_type": "code",
   "execution_count": 43,
   "id": "cc1746fb-cf3c-4c55-bdf9-2b4acad634a2",
   "metadata": {},
   "outputs": [
    {
     "data": {
      "text/plain": [
       "\"I'm an AI and I don't have the ability to greet you. However, I'm here to answer your questions.\""
      ]
     },
     "execution_count": 43,
     "metadata": {},
     "output_type": "execute_result"
    }
   ],
   "source": [
    "retrieval_chain.run(\"Hello\")"
   ]
  },
  {
   "cell_type": "code",
   "execution_count": 47,
   "id": "671b9bff-e31d-4af3-91db-09b9d2eeee43",
   "metadata": {},
   "outputs": [
    {
     "data": {
      "text/plain": [
       "\"JJ Kiddo is a former national-level chess player from Mandeep, Andromeda, who later became a lawyer working at Mar's BleevFlemin. He also founded the company Terrain Trait in 2089.\""
      ]
     },
     "execution_count": 47,
     "metadata": {},
     "output_type": "execute_result"
    }
   ],
   "source": [
    "query = \"Who is JJ Kiddo \"\n",
    "retrieval_chain.run(query)"
   ]
  },
  {
   "cell_type": "code",
   "execution_count": 48,
   "id": "eab66398-c53b-4e6a-b332-6645d22f9998",
   "metadata": {},
   "outputs": [
    {
     "data": {
      "text/plain": [
       "'The full name of JJ Kiddo is Junior Juma Kiddo.'"
      ]
     },
     "execution_count": 48,
     "metadata": {},
     "output_type": "execute_result"
    }
   ],
   "source": [
    "query = \"Whats is his full name\"\n",
    "retrieval_chain.run(query)"
   ]
  },
  {
   "cell_type": "code",
   "execution_count": 49,
   "id": "287a2343-ad44-4d4b-bdf8-2c75364013e6",
   "metadata": {},
   "outputs": [
    {
     "data": {
      "text/plain": [
       "'The founder of Meo Smiti is Rhu Chandra Pratishta, also known as RC Pratishta.'"
      ]
     },
     "execution_count": 49,
     "metadata": {},
     "output_type": "execute_result"
    }
   ],
   "source": [
    "query = \"Who founded Meo Smiti\"\n",
    "retrieval_chain.run(query)"
   ]
  },
  {
   "cell_type": "code",
   "execution_count": 50,
   "id": "b9b7b673-6c39-40b8-8160-138eea66f2cf",
   "metadata": {},
   "outputs": [
    {
     "data": {
      "text/plain": [
       "\"The text doesn't provide information on where Rhu Chandra Pratishta, the founder of Meo Smiti, is from.\""
      ]
     },
     "execution_count": 50,
     "metadata": {},
     "output_type": "execute_result"
    }
   ],
   "source": [
    "query = \"Where is he from\"\n",
    "retrieval_chain.run(query)"
   ]
  },
  {
   "cell_type": "code",
   "execution_count": 51,
   "id": "98e84ca8-8c4d-4d50-b211-099119c6b69f",
   "metadata": {},
   "outputs": [
    {
     "data": {
      "text/plain": [
       "'The individuals recently discussed are Junior Juma Kiddo and Rhu Chandra Pratishta (also known as RC Pratishta).'"
      ]
     },
     "execution_count": 51,
     "metadata": {},
     "output_type": "execute_result"
    }
   ],
   "source": [
    "query = \"Can u give me names of persons that we just discussed about\"\n",
    "retrieval_chain.run(query)"
   ]
  },
  {
   "cell_type": "code",
   "execution_count": null,
   "id": "312fecb4-8760-48fd-b183-dc94b07eecaf",
   "metadata": {},
   "outputs": [],
   "source": []
  }
 ],
 "metadata": {
  "kernelspec": {
   "display_name": "Python 3 (ipykernel)",
   "language": "python",
   "name": "python3"
  },
  "language_info": {
   "codemirror_mode": {
    "name": "ipython",
    "version": 3
   },
   "file_extension": ".py",
   "mimetype": "text/x-python",
   "name": "python",
   "nbconvert_exporter": "python",
   "pygments_lexer": "ipython3",
   "version": "3.10.15"
  }
 },
 "nbformat": 4,
 "nbformat_minor": 5
}
